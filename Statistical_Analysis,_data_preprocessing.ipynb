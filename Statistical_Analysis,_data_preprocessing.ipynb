{
  "cells": [
    {
      "cell_type": "code",
      "execution_count": null,
      "id": "e24ff707",
      "metadata": {
        "id": "e24ff707"
      },
      "outputs": [],
      "source": [
        "\n",
        "import pandas as pd\n",
        "import numpy as np\n",
        "import seaborn as sns\n",
        "import matplotlib.pyplot as plt"
      ]
    },
    {
      "cell_type": "code",
      "execution_count": null,
      "id": "82432bff",
      "metadata": {
        "id": "82432bff"
      },
      "outputs": [],
      "source": [
        "pd.set_option('display.max_rows', None)\n",
        "#Force pandas to obtain all rows and col"
      ]
    },
    {
      "cell_type": "code",
      "execution_count": null,
      "id": "8a9b34b6",
      "metadata": {
        "id": "8a9b34b6"
      },
      "outputs": [],
      "source": [
        "df = pd.read_csv(\"C:/Users/eesha/Downloads/archive (30)/Life Expectancy Data.csv\")"
      ]
    },
    {
      "cell_type": "code",
      "execution_count": null,
      "id": "37d038eb",
      "metadata": {
        "id": "37d038eb",
        "outputId": "a55ff616-0c3f-4c0e-cf03-6aa1149e31c8"
      },
      "outputs": [
        {
          "data": {
            "text/plain": [
              "pandas.core.frame.DataFrame"
            ]
          },
          "execution_count": 40,
          "metadata": {},
          "output_type": "execute_result"
        }
      ],
      "source": [
        "type(df)\n",
        "#find type of df"
      ]
    },
    {
      "cell_type": "markdown",
      "id": "1766f474",
      "metadata": {
        "id": "1766f474"
      },
      "source": [
        "#Step 1: Statistical Analysis"
      ]
    },
    {
      "cell_type": "code",
      "execution_count": null,
      "id": "c5c3375b",
      "metadata": {
        "id": "c5c3375b",
        "outputId": "03208e08-3bcc-4252-f69f-c37bbfd8423a"
      },
      "outputs": [
        {
          "data": {
            "text/html": [
              "<div>\n",
              "<style scoped>\n",
              "    .dataframe tbody tr th:only-of-type {\n",
              "        vertical-align: middle;\n",
              "    }\n",
              "\n",
              "    .dataframe tbody tr th {\n",
              "        vertical-align: top;\n",
              "    }\n",
              "\n",
              "    .dataframe thead th {\n",
              "        text-align: right;\n",
              "    }\n",
              "</style>\n",
              "<table border=\"1\" class=\"dataframe\">\n",
              "  <thead>\n",
              "    <tr style=\"text-align: right;\">\n",
              "      <th></th>\n",
              "      <th>Country</th>\n",
              "      <th>Year</th>\n",
              "      <th>Status</th>\n",
              "      <th>Life expectancy</th>\n",
              "      <th>Adult Mortality</th>\n",
              "      <th>infant deaths</th>\n",
              "      <th>Alcohol</th>\n",
              "      <th>percentage expenditure</th>\n",
              "      <th>Hepatitis B</th>\n",
              "      <th>Measles</th>\n",
              "      <th>...</th>\n",
              "      <th>Polio</th>\n",
              "      <th>Total expenditure</th>\n",
              "      <th>Diphtheria</th>\n",
              "      <th>HIV/AIDS</th>\n",
              "      <th>GDP</th>\n",
              "      <th>Population</th>\n",
              "      <th>thinness  1-19 years</th>\n",
              "      <th>thinness 5-9 years</th>\n",
              "      <th>Income composition of resources</th>\n",
              "      <th>Schooling</th>\n",
              "    </tr>\n",
              "  </thead>\n",
              "  <tbody>\n",
              "    <tr>\n",
              "      <th>0</th>\n",
              "      <td>Afghanistan</td>\n",
              "      <td>2015</td>\n",
              "      <td>Developing</td>\n",
              "      <td>65.0</td>\n",
              "      <td>263.0</td>\n",
              "      <td>62</td>\n",
              "      <td>0.01</td>\n",
              "      <td>71.279624</td>\n",
              "      <td>65.0</td>\n",
              "      <td>1154</td>\n",
              "      <td>...</td>\n",
              "      <td>6.0</td>\n",
              "      <td>8.16</td>\n",
              "      <td>65.0</td>\n",
              "      <td>0.1</td>\n",
              "      <td>584.259210</td>\n",
              "      <td>33736494.0</td>\n",
              "      <td>17.2</td>\n",
              "      <td>17.3</td>\n",
              "      <td>0.479</td>\n",
              "      <td>10.1</td>\n",
              "    </tr>\n",
              "    <tr>\n",
              "      <th>1</th>\n",
              "      <td>Afghanistan</td>\n",
              "      <td>2014</td>\n",
              "      <td>Developing</td>\n",
              "      <td>59.9</td>\n",
              "      <td>271.0</td>\n",
              "      <td>64</td>\n",
              "      <td>0.01</td>\n",
              "      <td>73.523582</td>\n",
              "      <td>62.0</td>\n",
              "      <td>492</td>\n",
              "      <td>...</td>\n",
              "      <td>58.0</td>\n",
              "      <td>8.18</td>\n",
              "      <td>62.0</td>\n",
              "      <td>0.1</td>\n",
              "      <td>612.696514</td>\n",
              "      <td>327582.0</td>\n",
              "      <td>17.5</td>\n",
              "      <td>17.5</td>\n",
              "      <td>0.476</td>\n",
              "      <td>10.0</td>\n",
              "    </tr>\n",
              "    <tr>\n",
              "      <th>2</th>\n",
              "      <td>Afghanistan</td>\n",
              "      <td>2013</td>\n",
              "      <td>Developing</td>\n",
              "      <td>59.9</td>\n",
              "      <td>268.0</td>\n",
              "      <td>66</td>\n",
              "      <td>0.01</td>\n",
              "      <td>73.219243</td>\n",
              "      <td>64.0</td>\n",
              "      <td>430</td>\n",
              "      <td>...</td>\n",
              "      <td>62.0</td>\n",
              "      <td>8.13</td>\n",
              "      <td>64.0</td>\n",
              "      <td>0.1</td>\n",
              "      <td>631.744976</td>\n",
              "      <td>31731688.0</td>\n",
              "      <td>17.7</td>\n",
              "      <td>17.7</td>\n",
              "      <td>0.470</td>\n",
              "      <td>9.9</td>\n",
              "    </tr>\n",
              "    <tr>\n",
              "      <th>3</th>\n",
              "      <td>Afghanistan</td>\n",
              "      <td>2012</td>\n",
              "      <td>Developing</td>\n",
              "      <td>59.5</td>\n",
              "      <td>272.0</td>\n",
              "      <td>69</td>\n",
              "      <td>0.01</td>\n",
              "      <td>78.184215</td>\n",
              "      <td>67.0</td>\n",
              "      <td>2787</td>\n",
              "      <td>...</td>\n",
              "      <td>67.0</td>\n",
              "      <td>8.52</td>\n",
              "      <td>67.0</td>\n",
              "      <td>0.1</td>\n",
              "      <td>669.959000</td>\n",
              "      <td>3696958.0</td>\n",
              "      <td>17.9</td>\n",
              "      <td>18.0</td>\n",
              "      <td>0.463</td>\n",
              "      <td>9.8</td>\n",
              "    </tr>\n",
              "    <tr>\n",
              "      <th>4</th>\n",
              "      <td>Afghanistan</td>\n",
              "      <td>2011</td>\n",
              "      <td>Developing</td>\n",
              "      <td>59.2</td>\n",
              "      <td>275.0</td>\n",
              "      <td>71</td>\n",
              "      <td>0.01</td>\n",
              "      <td>7.097109</td>\n",
              "      <td>68.0</td>\n",
              "      <td>3013</td>\n",
              "      <td>...</td>\n",
              "      <td>68.0</td>\n",
              "      <td>7.87</td>\n",
              "      <td>68.0</td>\n",
              "      <td>0.1</td>\n",
              "      <td>63.537231</td>\n",
              "      <td>2978599.0</td>\n",
              "      <td>18.2</td>\n",
              "      <td>18.2</td>\n",
              "      <td>0.454</td>\n",
              "      <td>9.5</td>\n",
              "    </tr>\n",
              "  </tbody>\n",
              "</table>\n",
              "<p>5 rows × 22 columns</p>\n",
              "</div>"
            ],
            "text/plain": [
              "       Country  Year      Status  Life expectancy   Adult Mortality  \\\n",
              "0  Afghanistan  2015  Developing              65.0            263.0   \n",
              "1  Afghanistan  2014  Developing              59.9            271.0   \n",
              "2  Afghanistan  2013  Developing              59.9            268.0   \n",
              "3  Afghanistan  2012  Developing              59.5            272.0   \n",
              "4  Afghanistan  2011  Developing              59.2            275.0   \n",
              "\n",
              "   infant deaths  Alcohol  percentage expenditure  Hepatitis B  Measles   ...  \\\n",
              "0             62     0.01               71.279624         65.0      1154  ...   \n",
              "1             64     0.01               73.523582         62.0       492  ...   \n",
              "2             66     0.01               73.219243         64.0       430  ...   \n",
              "3             69     0.01               78.184215         67.0      2787  ...   \n",
              "4             71     0.01                7.097109         68.0      3013  ...   \n",
              "\n",
              "   Polio  Total expenditure  Diphtheria    HIV/AIDS         GDP  Population  \\\n",
              "0    6.0               8.16         65.0        0.1  584.259210  33736494.0   \n",
              "1   58.0               8.18         62.0        0.1  612.696514    327582.0   \n",
              "2   62.0               8.13         64.0        0.1  631.744976  31731688.0   \n",
              "3   67.0               8.52         67.0        0.1  669.959000   3696958.0   \n",
              "4   68.0               7.87         68.0        0.1   63.537231   2978599.0   \n",
              "\n",
              "    thinness  1-19 years   thinness 5-9 years  \\\n",
              "0                   17.2                 17.3   \n",
              "1                   17.5                 17.5   \n",
              "2                   17.7                 17.7   \n",
              "3                   17.9                 18.0   \n",
              "4                   18.2                 18.2   \n",
              "\n",
              "   Income composition of resources  Schooling  \n",
              "0                            0.479       10.1  \n",
              "1                            0.476       10.0  \n",
              "2                            0.470        9.9  \n",
              "3                            0.463        9.8  \n",
              "4                            0.454        9.5  \n",
              "\n",
              "[5 rows x 22 columns]"
            ]
          },
          "execution_count": 41,
          "metadata": {},
          "output_type": "execute_result"
        }
      ],
      "source": [
        "df.head(5) #display first 5 rows"
      ]
    },
    {
      "cell_type": "code",
      "execution_count": null,
      "id": "ba81dc87",
      "metadata": {
        "id": "ba81dc87",
        "outputId": "b4f48e0f-1354-4901-8dc1-258c67aa8e2f"
      },
      "outputs": [
        {
          "data": {
            "text/html": [
              "<div>\n",
              "<style scoped>\n",
              "    .dataframe tbody tr th:only-of-type {\n",
              "        vertical-align: middle;\n",
              "    }\n",
              "\n",
              "    .dataframe tbody tr th {\n",
              "        vertical-align: top;\n",
              "    }\n",
              "\n",
              "    .dataframe thead th {\n",
              "        text-align: right;\n",
              "    }\n",
              "</style>\n",
              "<table border=\"1\" class=\"dataframe\">\n",
              "  <thead>\n",
              "    <tr style=\"text-align: right;\">\n",
              "      <th></th>\n",
              "      <th>Country</th>\n",
              "      <th>Year</th>\n",
              "      <th>Status</th>\n",
              "      <th>Life expectancy</th>\n",
              "      <th>Adult Mortality</th>\n",
              "      <th>infant deaths</th>\n",
              "      <th>Alcohol</th>\n",
              "      <th>percentage expenditure</th>\n",
              "      <th>Hepatitis B</th>\n",
              "      <th>Measles</th>\n",
              "      <th>...</th>\n",
              "      <th>Polio</th>\n",
              "      <th>Total expenditure</th>\n",
              "      <th>Diphtheria</th>\n",
              "      <th>HIV/AIDS</th>\n",
              "      <th>GDP</th>\n",
              "      <th>Population</th>\n",
              "      <th>thinness  1-19 years</th>\n",
              "      <th>thinness 5-9 years</th>\n",
              "      <th>Income composition of resources</th>\n",
              "      <th>Schooling</th>\n",
              "    </tr>\n",
              "  </thead>\n",
              "  <tbody>\n",
              "    <tr>\n",
              "      <th>2934</th>\n",
              "      <td>Zimbabwe</td>\n",
              "      <td>2003</td>\n",
              "      <td>Developing</td>\n",
              "      <td>44.5</td>\n",
              "      <td>715.0</td>\n",
              "      <td>26</td>\n",
              "      <td>4.06</td>\n",
              "      <td>0.0</td>\n",
              "      <td>7.0</td>\n",
              "      <td>998</td>\n",
              "      <td>...</td>\n",
              "      <td>7.0</td>\n",
              "      <td>6.52</td>\n",
              "      <td>68.0</td>\n",
              "      <td>36.7</td>\n",
              "      <td>453.351155</td>\n",
              "      <td>12633897.0</td>\n",
              "      <td>9.8</td>\n",
              "      <td>9.9</td>\n",
              "      <td>0.418</td>\n",
              "      <td>9.5</td>\n",
              "    </tr>\n",
              "    <tr>\n",
              "      <th>2935</th>\n",
              "      <td>Zimbabwe</td>\n",
              "      <td>2002</td>\n",
              "      <td>Developing</td>\n",
              "      <td>44.8</td>\n",
              "      <td>73.0</td>\n",
              "      <td>25</td>\n",
              "      <td>4.43</td>\n",
              "      <td>0.0</td>\n",
              "      <td>73.0</td>\n",
              "      <td>304</td>\n",
              "      <td>...</td>\n",
              "      <td>73.0</td>\n",
              "      <td>6.53</td>\n",
              "      <td>71.0</td>\n",
              "      <td>39.8</td>\n",
              "      <td>57.348340</td>\n",
              "      <td>125525.0</td>\n",
              "      <td>1.2</td>\n",
              "      <td>1.3</td>\n",
              "      <td>0.427</td>\n",
              "      <td>10.0</td>\n",
              "    </tr>\n",
              "    <tr>\n",
              "      <th>2936</th>\n",
              "      <td>Zimbabwe</td>\n",
              "      <td>2001</td>\n",
              "      <td>Developing</td>\n",
              "      <td>45.3</td>\n",
              "      <td>686.0</td>\n",
              "      <td>25</td>\n",
              "      <td>1.72</td>\n",
              "      <td>0.0</td>\n",
              "      <td>76.0</td>\n",
              "      <td>529</td>\n",
              "      <td>...</td>\n",
              "      <td>76.0</td>\n",
              "      <td>6.16</td>\n",
              "      <td>75.0</td>\n",
              "      <td>42.1</td>\n",
              "      <td>548.587312</td>\n",
              "      <td>12366165.0</td>\n",
              "      <td>1.6</td>\n",
              "      <td>1.7</td>\n",
              "      <td>0.427</td>\n",
              "      <td>9.8</td>\n",
              "    </tr>\n",
              "    <tr>\n",
              "      <th>2937</th>\n",
              "      <td>Zimbabwe</td>\n",
              "      <td>2000</td>\n",
              "      <td>Developing</td>\n",
              "      <td>46.0</td>\n",
              "      <td>665.0</td>\n",
              "      <td>24</td>\n",
              "      <td>1.68</td>\n",
              "      <td>0.0</td>\n",
              "      <td>79.0</td>\n",
              "      <td>1483</td>\n",
              "      <td>...</td>\n",
              "      <td>78.0</td>\n",
              "      <td>7.10</td>\n",
              "      <td>78.0</td>\n",
              "      <td>43.5</td>\n",
              "      <td>547.358878</td>\n",
              "      <td>12222251.0</td>\n",
              "      <td>11.0</td>\n",
              "      <td>11.2</td>\n",
              "      <td>0.434</td>\n",
              "      <td>9.8</td>\n",
              "    </tr>\n",
              "  </tbody>\n",
              "</table>\n",
              "<p>4 rows × 22 columns</p>\n",
              "</div>"
            ],
            "text/plain": [
              "       Country  Year      Status  Life expectancy   Adult Mortality  \\\n",
              "2934  Zimbabwe  2003  Developing              44.5            715.0   \n",
              "2935  Zimbabwe  2002  Developing              44.8             73.0   \n",
              "2936  Zimbabwe  2001  Developing              45.3            686.0   \n",
              "2937  Zimbabwe  2000  Developing              46.0            665.0   \n",
              "\n",
              "      infant deaths  Alcohol  percentage expenditure  Hepatitis B  Measles   \\\n",
              "2934             26     4.06                     0.0          7.0       998   \n",
              "2935             25     4.43                     0.0         73.0       304   \n",
              "2936             25     1.72                     0.0         76.0       529   \n",
              "2937             24     1.68                     0.0         79.0      1483   \n",
              "\n",
              "      ...  Polio  Total expenditure  Diphtheria    HIV/AIDS         GDP  \\\n",
              "2934  ...    7.0               6.52         68.0       36.7  453.351155   \n",
              "2935  ...   73.0               6.53         71.0       39.8   57.348340   \n",
              "2936  ...   76.0               6.16         75.0       42.1  548.587312   \n",
              "2937  ...   78.0               7.10         78.0       43.5  547.358878   \n",
              "\n",
              "      Population   thinness  1-19 years   thinness 5-9 years  \\\n",
              "2934  12633897.0                    9.8                  9.9   \n",
              "2935    125525.0                    1.2                  1.3   \n",
              "2936  12366165.0                    1.6                  1.7   \n",
              "2937  12222251.0                   11.0                 11.2   \n",
              "\n",
              "      Income composition of resources  Schooling  \n",
              "2934                            0.418        9.5  \n",
              "2935                            0.427       10.0  \n",
              "2936                            0.427        9.8  \n",
              "2937                            0.434        9.8  \n",
              "\n",
              "[4 rows x 22 columns]"
            ]
          },
          "execution_count": 42,
          "metadata": {},
          "output_type": "execute_result"
        }
      ],
      "source": [
        "df.tail(4)"
      ]
    },
    {
      "cell_type": "code",
      "execution_count": null,
      "id": "d045fc35",
      "metadata": {
        "id": "d045fc35",
        "outputId": "091d6585-4d52-4117-99c6-ace79a948f0b"
      },
      "outputs": [
        {
          "name": "stdout",
          "output_type": "stream",
          "text": [
            "(2938, 22)\n"
          ]
        }
      ],
      "source": [
        "print(df.shape) #Let’s have a look at data dimensionality"
      ]
    },
    {
      "cell_type": "code",
      "execution_count": null,
      "id": "11d2f819",
      "metadata": {
        "id": "11d2f819",
        "outputId": "bf7456dd-eb98-4133-d853-b535a585f413"
      },
      "outputs": [
        {
          "name": "stdout",
          "output_type": "stream",
          "text": [
            "Index(['Country', 'Year', 'Status', 'Life expectancy ', 'Adult Mortality',\n",
            "       'infant deaths', 'Alcohol', 'percentage expenditure', 'Hepatitis B',\n",
            "       'Measles ', ' BMI ', 'under-five deaths ', 'Polio', 'Total expenditure',\n",
            "       'Diphtheria ', ' HIV/AIDS', 'GDP', 'Population',\n",
            "       ' thinness  1-19 years', ' thinness 5-9 years',\n",
            "       'Income composition of resources', 'Schooling'],\n",
            "      dtype='object')\n"
          ]
        }
      ],
      "source": [
        "print(df.columns) #Now let's try printing out column names using columns"
      ]
    },
    {
      "cell_type": "code",
      "execution_count": null,
      "id": "2e3dd52b",
      "metadata": {
        "id": "2e3dd52b",
        "outputId": "fbe6df44-ffba-48c1-d770-0cea880d24b7"
      },
      "outputs": [
        {
          "name": "stderr",
          "output_type": "stream",
          "text": [
            "C:\\Users\\eesha\\AppData\\Local\\Temp\\ipykernel_22572\\3698961737.py:1: FutureWarning: Dropping of nuisance columns in DataFrame reductions (with 'numeric_only=None') is deprecated; in a future version this will raise TypeError.  Select only valid columns before calling the reduction.\n",
            "  df.mean()\n"
          ]
        },
        {
          "data": {
            "text/plain": [
              "Year                               2.007519e+03\n",
              "Life expectancy                    6.922493e+01\n",
              "Adult Mortality                    1.647964e+02\n",
              "infant deaths                      3.030395e+01\n",
              "Alcohol                            4.602861e+00\n",
              "percentage expenditure             7.382513e+02\n",
              "Hepatitis B                        8.094046e+01\n",
              "Measles                            2.419592e+03\n",
              " BMI                               3.832125e+01\n",
              "under-five deaths                  4.203574e+01\n",
              "Polio                              8.255019e+01\n",
              "Total expenditure                  5.938190e+00\n",
              "Diphtheria                         8.232408e+01\n",
              " HIV/AIDS                          1.742103e+00\n",
              "GDP                                7.483158e+03\n",
              "Population                         1.275338e+07\n",
              " thinness  1-19 years              4.839704e+00\n",
              " thinness 5-9 years                4.870317e+00\n",
              "Income composition of resources    6.275511e-01\n",
              "Schooling                          1.199279e+01\n",
              "dtype: float64"
            ]
          },
          "execution_count": 45,
          "metadata": {},
          "output_type": "execute_result"
        }
      ],
      "source": [
        "df.mean()"
      ]
    },
    {
      "cell_type": "code",
      "execution_count": null,
      "id": "ba28e952",
      "metadata": {
        "id": "ba28e952",
        "outputId": "1a4d6bd6-2d76-4abe-873b-5154c837f8b3"
      },
      "outputs": [
        {
          "name": "stderr",
          "output_type": "stream",
          "text": [
            "C:\\Users\\eesha\\AppData\\Local\\Temp\\ipykernel_22572\\2416993234.py:1: FutureWarning: Dropping of nuisance columns in DataFrame reductions (with 'numeric_only=None') is deprecated; in a future version this will raise TypeError.  Select only valid columns before calling the reduction.\n",
            "  round(df.mean())\n"
          ]
        },
        {
          "data": {
            "text/plain": [
              "Year                                   2008.0\n",
              "Life expectancy                          69.0\n",
              "Adult Mortality                         165.0\n",
              "infant deaths                            30.0\n",
              "Alcohol                                   5.0\n",
              "percentage expenditure                  738.0\n",
              "Hepatitis B                              81.0\n",
              "Measles                                2420.0\n",
              " BMI                                     38.0\n",
              "under-five deaths                        42.0\n",
              "Polio                                    83.0\n",
              "Total expenditure                         6.0\n",
              "Diphtheria                               82.0\n",
              " HIV/AIDS                                 2.0\n",
              "GDP                                    7483.0\n",
              "Population                         12753375.0\n",
              " thinness  1-19 years                     5.0\n",
              " thinness 5-9 years                       5.0\n",
              "Income composition of resources           1.0\n",
              "Schooling                                12.0\n",
              "dtype: float64"
            ]
          },
          "execution_count": 46,
          "metadata": {},
          "output_type": "execute_result"
        }
      ],
      "source": [
        "round(df.mean())"
      ]
    },
    {
      "cell_type": "code",
      "execution_count": null,
      "id": "7a1c130b",
      "metadata": {
        "id": "7a1c130b",
        "outputId": "d8d93a4e-3b18-420d-cefb-46050beca911"
      },
      "outputs": [
        {
          "name": "stdout",
          "output_type": "stream",
          "text": [
            "<class 'pandas.core.frame.DataFrame'>\n",
            "RangeIndex: 2938 entries, 0 to 2937\n",
            "Data columns (total 22 columns):\n",
            " #   Column                           Non-Null Count  Dtype  \n",
            "---  ------                           --------------  -----  \n",
            " 0   Country                          2938 non-null   object \n",
            " 1   Year                             2938 non-null   int64  \n",
            " 2   Status                           2938 non-null   object \n",
            " 3   Life expectancy                  2928 non-null   float64\n",
            " 4   Adult Mortality                  2928 non-null   float64\n",
            " 5   infant deaths                    2938 non-null   int64  \n",
            " 6   Alcohol                          2744 non-null   float64\n",
            " 7   percentage expenditure           2938 non-null   float64\n",
            " 8   Hepatitis B                      2385 non-null   float64\n",
            " 9   Measles                          2938 non-null   int64  \n",
            " 10   BMI                             2904 non-null   float64\n",
            " 11  under-five deaths                2938 non-null   int64  \n",
            " 12  Polio                            2919 non-null   float64\n",
            " 13  Total expenditure                2712 non-null   float64\n",
            " 14  Diphtheria                       2919 non-null   float64\n",
            " 15   HIV/AIDS                        2938 non-null   float64\n",
            " 16  GDP                              2490 non-null   float64\n",
            " 17  Population                       2286 non-null   float64\n",
            " 18   thinness  1-19 years            2904 non-null   float64\n",
            " 19   thinness 5-9 years              2904 non-null   float64\n",
            " 20  Income composition of resources  2771 non-null   float64\n",
            " 21  Schooling                        2775 non-null   float64\n",
            "dtypes: float64(16), int64(4), object(2)\n",
            "memory usage: 505.1+ KB\n"
          ]
        }
      ],
      "source": [
        "df.info() #We can use the info() method to output some general information about the dataframe:"
      ]
    },
    {
      "cell_type": "code",
      "execution_count": null,
      "id": "8a0d0001",
      "metadata": {
        "id": "8a0d0001",
        "outputId": "06cd21cd-ef33-469f-8f1e-a7bc65760fba"
      },
      "outputs": [
        {
          "data": {
            "text/html": [
              "<div>\n",
              "<style scoped>\n",
              "    .dataframe tbody tr th:only-of-type {\n",
              "        vertical-align: middle;\n",
              "    }\n",
              "\n",
              "    .dataframe tbody tr th {\n",
              "        vertical-align: top;\n",
              "    }\n",
              "\n",
              "    .dataframe thead th {\n",
              "        text-align: right;\n",
              "    }\n",
              "</style>\n",
              "<table border=\"1\" class=\"dataframe\">\n",
              "  <thead>\n",
              "    <tr style=\"text-align: right;\">\n",
              "      <th></th>\n",
              "      <th>Year</th>\n",
              "      <th>Life expectancy</th>\n",
              "      <th>Adult Mortality</th>\n",
              "      <th>infant deaths</th>\n",
              "      <th>Alcohol</th>\n",
              "      <th>percentage expenditure</th>\n",
              "      <th>Hepatitis B</th>\n",
              "      <th>Measles</th>\n",
              "      <th>BMI</th>\n",
              "      <th>under-five deaths</th>\n",
              "      <th>Polio</th>\n",
              "      <th>Total expenditure</th>\n",
              "      <th>Diphtheria</th>\n",
              "      <th>HIV/AIDS</th>\n",
              "      <th>GDP</th>\n",
              "      <th>Population</th>\n",
              "      <th>thinness  1-19 years</th>\n",
              "      <th>thinness 5-9 years</th>\n",
              "      <th>Income composition of resources</th>\n",
              "      <th>Schooling</th>\n",
              "    </tr>\n",
              "  </thead>\n",
              "  <tbody>\n",
              "    <tr>\n",
              "      <th>count</th>\n",
              "      <td>2938.000000</td>\n",
              "      <td>2928.000000</td>\n",
              "      <td>2928.000000</td>\n",
              "      <td>2938.000000</td>\n",
              "      <td>2744.000000</td>\n",
              "      <td>2938.000000</td>\n",
              "      <td>2385.000000</td>\n",
              "      <td>2938.000000</td>\n",
              "      <td>2904.000000</td>\n",
              "      <td>2938.000000</td>\n",
              "      <td>2919.000000</td>\n",
              "      <td>2712.00000</td>\n",
              "      <td>2919.000000</td>\n",
              "      <td>2938.000000</td>\n",
              "      <td>2490.000000</td>\n",
              "      <td>2.286000e+03</td>\n",
              "      <td>2904.000000</td>\n",
              "      <td>2904.000000</td>\n",
              "      <td>2771.000000</td>\n",
              "      <td>2775.000000</td>\n",
              "    </tr>\n",
              "    <tr>\n",
              "      <th>mean</th>\n",
              "      <td>2007.518720</td>\n",
              "      <td>69.224932</td>\n",
              "      <td>164.796448</td>\n",
              "      <td>30.303948</td>\n",
              "      <td>4.602861</td>\n",
              "      <td>738.251295</td>\n",
              "      <td>80.940461</td>\n",
              "      <td>2419.592240</td>\n",
              "      <td>38.321247</td>\n",
              "      <td>42.035739</td>\n",
              "      <td>82.550188</td>\n",
              "      <td>5.93819</td>\n",
              "      <td>82.324084</td>\n",
              "      <td>1.742103</td>\n",
              "      <td>7483.158469</td>\n",
              "      <td>1.275338e+07</td>\n",
              "      <td>4.839704</td>\n",
              "      <td>4.870317</td>\n",
              "      <td>0.627551</td>\n",
              "      <td>11.992793</td>\n",
              "    </tr>\n",
              "    <tr>\n",
              "      <th>std</th>\n",
              "      <td>4.613841</td>\n",
              "      <td>9.523867</td>\n",
              "      <td>124.292079</td>\n",
              "      <td>117.926501</td>\n",
              "      <td>4.052413</td>\n",
              "      <td>1987.914858</td>\n",
              "      <td>25.070016</td>\n",
              "      <td>11467.272489</td>\n",
              "      <td>20.044034</td>\n",
              "      <td>160.445548</td>\n",
              "      <td>23.428046</td>\n",
              "      <td>2.49832</td>\n",
              "      <td>23.716912</td>\n",
              "      <td>5.077785</td>\n",
              "      <td>14270.169342</td>\n",
              "      <td>6.101210e+07</td>\n",
              "      <td>4.420195</td>\n",
              "      <td>4.508882</td>\n",
              "      <td>0.210904</td>\n",
              "      <td>3.358920</td>\n",
              "    </tr>\n",
              "    <tr>\n",
              "      <th>min</th>\n",
              "      <td>2000.000000</td>\n",
              "      <td>36.300000</td>\n",
              "      <td>1.000000</td>\n",
              "      <td>0.000000</td>\n",
              "      <td>0.010000</td>\n",
              "      <td>0.000000</td>\n",
              "      <td>1.000000</td>\n",
              "      <td>0.000000</td>\n",
              "      <td>1.000000</td>\n",
              "      <td>0.000000</td>\n",
              "      <td>3.000000</td>\n",
              "      <td>0.37000</td>\n",
              "      <td>2.000000</td>\n",
              "      <td>0.100000</td>\n",
              "      <td>1.681350</td>\n",
              "      <td>3.400000e+01</td>\n",
              "      <td>0.100000</td>\n",
              "      <td>0.100000</td>\n",
              "      <td>0.000000</td>\n",
              "      <td>0.000000</td>\n",
              "    </tr>\n",
              "    <tr>\n",
              "      <th>25%</th>\n",
              "      <td>2004.000000</td>\n",
              "      <td>63.100000</td>\n",
              "      <td>74.000000</td>\n",
              "      <td>0.000000</td>\n",
              "      <td>0.877500</td>\n",
              "      <td>4.685343</td>\n",
              "      <td>77.000000</td>\n",
              "      <td>0.000000</td>\n",
              "      <td>19.300000</td>\n",
              "      <td>0.000000</td>\n",
              "      <td>78.000000</td>\n",
              "      <td>4.26000</td>\n",
              "      <td>78.000000</td>\n",
              "      <td>0.100000</td>\n",
              "      <td>463.935626</td>\n",
              "      <td>1.957932e+05</td>\n",
              "      <td>1.600000</td>\n",
              "      <td>1.500000</td>\n",
              "      <td>0.493000</td>\n",
              "      <td>10.100000</td>\n",
              "    </tr>\n",
              "    <tr>\n",
              "      <th>50%</th>\n",
              "      <td>2008.000000</td>\n",
              "      <td>72.100000</td>\n",
              "      <td>144.000000</td>\n",
              "      <td>3.000000</td>\n",
              "      <td>3.755000</td>\n",
              "      <td>64.912906</td>\n",
              "      <td>92.000000</td>\n",
              "      <td>17.000000</td>\n",
              "      <td>43.500000</td>\n",
              "      <td>4.000000</td>\n",
              "      <td>93.000000</td>\n",
              "      <td>5.75500</td>\n",
              "      <td>93.000000</td>\n",
              "      <td>0.100000</td>\n",
              "      <td>1766.947595</td>\n",
              "      <td>1.386542e+06</td>\n",
              "      <td>3.300000</td>\n",
              "      <td>3.300000</td>\n",
              "      <td>0.677000</td>\n",
              "      <td>12.300000</td>\n",
              "    </tr>\n",
              "    <tr>\n",
              "      <th>75%</th>\n",
              "      <td>2012.000000</td>\n",
              "      <td>75.700000</td>\n",
              "      <td>228.000000</td>\n",
              "      <td>22.000000</td>\n",
              "      <td>7.702500</td>\n",
              "      <td>441.534144</td>\n",
              "      <td>97.000000</td>\n",
              "      <td>360.250000</td>\n",
              "      <td>56.200000</td>\n",
              "      <td>28.000000</td>\n",
              "      <td>97.000000</td>\n",
              "      <td>7.49250</td>\n",
              "      <td>97.000000</td>\n",
              "      <td>0.800000</td>\n",
              "      <td>5910.806335</td>\n",
              "      <td>7.420359e+06</td>\n",
              "      <td>7.200000</td>\n",
              "      <td>7.200000</td>\n",
              "      <td>0.779000</td>\n",
              "      <td>14.300000</td>\n",
              "    </tr>\n",
              "    <tr>\n",
              "      <th>max</th>\n",
              "      <td>2015.000000</td>\n",
              "      <td>89.000000</td>\n",
              "      <td>723.000000</td>\n",
              "      <td>1800.000000</td>\n",
              "      <td>17.870000</td>\n",
              "      <td>19479.911610</td>\n",
              "      <td>99.000000</td>\n",
              "      <td>212183.000000</td>\n",
              "      <td>87.300000</td>\n",
              "      <td>2500.000000</td>\n",
              "      <td>99.000000</td>\n",
              "      <td>17.60000</td>\n",
              "      <td>99.000000</td>\n",
              "      <td>50.600000</td>\n",
              "      <td>119172.741800</td>\n",
              "      <td>1.293859e+09</td>\n",
              "      <td>27.700000</td>\n",
              "      <td>28.600000</td>\n",
              "      <td>0.948000</td>\n",
              "      <td>20.700000</td>\n",
              "    </tr>\n",
              "  </tbody>\n",
              "</table>\n",
              "</div>"
            ],
            "text/plain": [
              "              Year  Life expectancy   Adult Mortality  infant deaths  \\\n",
              "count  2938.000000       2928.000000      2928.000000    2938.000000   \n",
              "mean   2007.518720         69.224932       164.796448      30.303948   \n",
              "std       4.613841          9.523867       124.292079     117.926501   \n",
              "min    2000.000000         36.300000         1.000000       0.000000   \n",
              "25%    2004.000000         63.100000        74.000000       0.000000   \n",
              "50%    2008.000000         72.100000       144.000000       3.000000   \n",
              "75%    2012.000000         75.700000       228.000000      22.000000   \n",
              "max    2015.000000         89.000000       723.000000    1800.000000   \n",
              "\n",
              "           Alcohol  percentage expenditure  Hepatitis B       Measles   \\\n",
              "count  2744.000000             2938.000000  2385.000000    2938.000000   \n",
              "mean      4.602861              738.251295    80.940461    2419.592240   \n",
              "std       4.052413             1987.914858    25.070016   11467.272489   \n",
              "min       0.010000                0.000000     1.000000       0.000000   \n",
              "25%       0.877500                4.685343    77.000000       0.000000   \n",
              "50%       3.755000               64.912906    92.000000      17.000000   \n",
              "75%       7.702500              441.534144    97.000000     360.250000   \n",
              "max      17.870000            19479.911610    99.000000  212183.000000   \n",
              "\n",
              "              BMI   under-five deaths         Polio  Total expenditure  \\\n",
              "count  2904.000000         2938.000000  2919.000000         2712.00000   \n",
              "mean     38.321247           42.035739    82.550188            5.93819   \n",
              "std      20.044034          160.445548    23.428046            2.49832   \n",
              "min       1.000000            0.000000     3.000000            0.37000   \n",
              "25%      19.300000            0.000000    78.000000            4.26000   \n",
              "50%      43.500000            4.000000    93.000000            5.75500   \n",
              "75%      56.200000           28.000000    97.000000            7.49250   \n",
              "max      87.300000         2500.000000    99.000000           17.60000   \n",
              "\n",
              "       Diphtheria      HIV/AIDS            GDP    Population  \\\n",
              "count  2919.000000  2938.000000    2490.000000  2.286000e+03   \n",
              "mean     82.324084     1.742103    7483.158469  1.275338e+07   \n",
              "std      23.716912     5.077785   14270.169342  6.101210e+07   \n",
              "min       2.000000     0.100000       1.681350  3.400000e+01   \n",
              "25%      78.000000     0.100000     463.935626  1.957932e+05   \n",
              "50%      93.000000     0.100000    1766.947595  1.386542e+06   \n",
              "75%      97.000000     0.800000    5910.806335  7.420359e+06   \n",
              "max      99.000000    50.600000  119172.741800  1.293859e+09   \n",
              "\n",
              "        thinness  1-19 years   thinness 5-9 years  \\\n",
              "count            2904.000000          2904.000000   \n",
              "mean                4.839704             4.870317   \n",
              "std                 4.420195             4.508882   \n",
              "min                 0.100000             0.100000   \n",
              "25%                 1.600000             1.500000   \n",
              "50%                 3.300000             3.300000   \n",
              "75%                 7.200000             7.200000   \n",
              "max                27.700000            28.600000   \n",
              "\n",
              "       Income composition of resources    Schooling  \n",
              "count                      2771.000000  2775.000000  \n",
              "mean                          0.627551    11.992793  \n",
              "std                           0.210904     3.358920  \n",
              "min                           0.000000     0.000000  \n",
              "25%                           0.493000    10.100000  \n",
              "50%                           0.677000    12.300000  \n",
              "75%                           0.779000    14.300000  \n",
              "max                           0.948000    20.700000  "
            ]
          },
          "execution_count": 51,
          "metadata": {},
          "output_type": "execute_result"
        }
      ],
      "source": [
        "df.describe()"
      ]
    },
    {
      "cell_type": "markdown",
      "id": "51e59842",
      "metadata": {
        "id": "51e59842"
      },
      "source": [
        "In order to see statistics on non-numerical features, we have to explicitly indicate data types of interest in the include parameter."
      ]
    },
    {
      "cell_type": "code",
      "execution_count": null,
      "id": "888156d7",
      "metadata": {
        "id": "888156d7",
        "outputId": "cf9f7d93-30a9-4987-d89b-5bcb7488e171"
      },
      "outputs": [
        {
          "data": {
            "text/html": [
              "<div>\n",
              "<style scoped>\n",
              "    .dataframe tbody tr th:only-of-type {\n",
              "        vertical-align: middle;\n",
              "    }\n",
              "\n",
              "    .dataframe tbody tr th {\n",
              "        vertical-align: top;\n",
              "    }\n",
              "\n",
              "    .dataframe thead th {\n",
              "        text-align: right;\n",
              "    }\n",
              "</style>\n",
              "<table border=\"1\" class=\"dataframe\">\n",
              "  <thead>\n",
              "    <tr style=\"text-align: right;\">\n",
              "      <th></th>\n",
              "      <th>Country</th>\n",
              "      <th>Status</th>\n",
              "    </tr>\n",
              "  </thead>\n",
              "  <tbody>\n",
              "    <tr>\n",
              "      <th>count</th>\n",
              "      <td>2938</td>\n",
              "      <td>2938</td>\n",
              "    </tr>\n",
              "    <tr>\n",
              "      <th>unique</th>\n",
              "      <td>193</td>\n",
              "      <td>2</td>\n",
              "    </tr>\n",
              "    <tr>\n",
              "      <th>top</th>\n",
              "      <td>Afghanistan</td>\n",
              "      <td>Developing</td>\n",
              "    </tr>\n",
              "    <tr>\n",
              "      <th>freq</th>\n",
              "      <td>16</td>\n",
              "      <td>2426</td>\n",
              "    </tr>\n",
              "  </tbody>\n",
              "</table>\n",
              "</div>"
            ],
            "text/plain": [
              "            Country      Status\n",
              "count          2938        2938\n",
              "unique          193           2\n",
              "top     Afghanistan  Developing\n",
              "freq             16        2426"
            ]
          },
          "execution_count": 52,
          "metadata": {},
          "output_type": "execute_result"
        }
      ],
      "source": [
        "df.describe(include=[\"object\", \"bool\"])"
      ]
    },
    {
      "cell_type": "code",
      "execution_count": null,
      "id": "3849cc65",
      "metadata": {
        "id": "3849cc65",
        "outputId": "249d3831-1750-4fe7-8660-be6e813030fe"
      },
      "outputs": [
        {
          "data": {
            "text/plain": [
              "Afghanistan                                             16\n",
              "Peru                                                    16\n",
              "Nicaragua                                               16\n",
              "Niger                                                   16\n",
              "Nigeria                                                 16\n",
              "Norway                                                  16\n",
              "Oman                                                    16\n",
              "Pakistan                                                16\n",
              "Panama                                                  16\n",
              "Papua New Guinea                                        16\n",
              "Paraguay                                                16\n",
              "Philippines                                             16\n",
              "Lebanon                                                 16\n",
              "Poland                                                  16\n",
              "Portugal                                                16\n",
              "Qatar                                                   16\n",
              "Republic of Korea                                       16\n",
              "Republic of Moldova                                     16\n",
              "Romania                                                 16\n",
              "Russian Federation                                      16\n",
              "Rwanda                                                  16\n",
              "Saint Lucia                                             16\n",
              "New Zealand                                             16\n",
              "Netherlands                                             16\n",
              "Nepal                                                   16\n",
              "Namibia                                                 16\n",
              "Liberia                                                 16\n",
              "Albania                                                 16\n",
              "Lithuania                                               16\n",
              "Luxembourg                                              16\n",
              "Madagascar                                              16\n",
              "Malawi                                                  16\n",
              "Malaysia                                                16\n",
              "Maldives                                                16\n",
              "Mali                                                    16\n",
              "Malta                                                   16\n",
              "Mauritania                                              16\n",
              "Mauritius                                               16\n",
              "Mexico                                                  16\n",
              "Micronesia (Federated States of)                        16\n",
              "Mongolia                                                16\n",
              "Montenegro                                              16\n",
              "Morocco                                                 16\n",
              "Mozambique                                              16\n",
              "Myanmar                                                 16\n",
              "Saint Vincent and the Grenadines                        16\n",
              "Samoa                                                   16\n",
              "Sao Tome and Principe                                   16\n",
              "The former Yugoslav republic of Macedonia               16\n",
              "Togo                                                    16\n",
              "Tonga                                                   16\n",
              "Trinidad and Tobago                                     16\n",
              "Tunisia                                                 16\n",
              "Turkey                                                  16\n",
              "Turkmenistan                                            16\n",
              "Uganda                                                  16\n",
              "Ukraine                                                 16\n",
              "United Arab Emirates                                    16\n",
              "United Kingdom of Great Britain and Northern Ireland    16\n",
              "United Republic of Tanzania                             16\n",
              "United States of America                                16\n",
              "Uruguay                                                 16\n",
              "Uzbekistan                                              16\n",
              "Vanuatu                                                 16\n",
              "Venezuela (Bolivarian Republic of)                      16\n",
              "Viet Nam                                                16\n",
              "Yemen                                                   16\n",
              "Zambia                                                  16\n",
              "Timor-Leste                                             16\n",
              "Thailand                                                16\n",
              "Saudi Arabia                                            16\n",
              "Tajikistan                                              16\n",
              "Senegal                                                 16\n",
              "Serbia                                                  16\n",
              "Seychelles                                              16\n",
              "Sierra Leone                                            16\n",
              "Singapore                                               16\n",
              "Slovakia                                                16\n",
              "Slovenia                                                16\n",
              "Solomon Islands                                         16\n",
              "Somalia                                                 16\n",
              "South Africa                                            16\n",
              "South Sudan                                             16\n",
              "Spain                                                   16\n",
              "Sri Lanka                                               16\n",
              "Sudan                                                   16\n",
              "Suriname                                                16\n",
              "Swaziland                                               16\n",
              "Sweden                                                  16\n",
              "Switzerland                                             16\n",
              "Syrian Arab Republic                                    16\n",
              "Lesotho                                                 16\n",
              "Libya                                                   16\n",
              "Latvia                                                  16\n",
              "China                                                   16\n",
              "Burundi                                                 16\n",
              "Côte d'Ivoire                                           16\n",
              "Cabo Verde                                              16\n",
              "Cambodia                                                16\n",
              "Cameroon                                                16\n",
              "Canada                                                  16\n",
              "Central African Republic                                16\n",
              "Chad                                                    16\n",
              "Chile                                                   16\n",
              "Colombia                                                16\n",
              "Bulgaria                                                16\n",
              "Comoros                                                 16\n",
              "Congo                                                   16\n",
              "Costa Rica                                              16\n",
              "Croatia                                                 16\n",
              "Cuba                                                    16\n",
              "Cyprus                                                  16\n",
              "Czechia                                                 16\n",
              "Democratic People's Republic of Korea                   16\n",
              "Democratic Republic of the Congo                        16\n",
              "Burkina Faso                                            16\n",
              "Brunei Darussalam                                       16\n",
              "Lao People's Democratic Republic                        16\n",
              "Bahrain                                                 16\n",
              "Algeria                                                 16\n",
              "Angola                                                  16\n",
              "Antigua and Barbuda                                     16\n",
              "Argentina                                               16\n",
              "Armenia                                                 16\n",
              "Australia                                               16\n",
              "Austria                                                 16\n",
              "Azerbaijan                                              16\n",
              "Bahamas                                                 16\n",
              "Bangladesh                                              16\n",
              "Brazil                                                  16\n",
              "Barbados                                                16\n",
              "Belarus                                                 16\n",
              "Belgium                                                 16\n",
              "Belize                                                  16\n",
              "Benin                                                   16\n",
              "Bhutan                                                  16\n",
              "Bolivia (Plurinational State of)                        16\n",
              "Bosnia and Herzegovina                                  16\n",
              "Botswana                                                16\n",
              "Denmark                                                 16\n",
              "Djibouti                                                16\n",
              "Guinea-Bissau                                           16\n",
              "Ireland                                                 16\n",
              "Guyana                                                  16\n",
              "Haiti                                                   16\n",
              "Honduras                                                16\n",
              "Hungary                                                 16\n",
              "Iceland                                                 16\n",
              "India                                                   16\n",
              "Indonesia                                               16\n",
              "Iran (Islamic Republic of)                              16\n",
              "Iraq                                                    16\n",
              "Israel                                                  16\n",
              "Guatemala                                               16\n",
              "Italy                                                   16\n",
              "Jamaica                                                 16\n",
              "Japan                                                   16\n",
              "Jordan                                                  16\n",
              "Kazakhstan                                              16\n",
              "Kenya                                                   16\n",
              "Kiribati                                                16\n",
              "Kuwait                                                  16\n",
              "Kyrgyzstan                                              16\n",
              "Guinea                                                  16\n",
              "Zimbabwe                                                16\n",
              "Grenada                                                 16\n",
              "France                                                  16\n",
              "Dominican Republic                                      16\n",
              "Ecuador                                                 16\n",
              "Egypt                                                   16\n",
              "El Salvador                                             16\n",
              "Equatorial Guinea                                       16\n",
              "Eritrea                                                 16\n",
              "Estonia                                                 16\n",
              "Ethiopia                                                16\n",
              "Fiji                                                    16\n",
              "Greece                                                  16\n",
              "Finland                                                 16\n",
              "Gabon                                                   16\n",
              "Gambia                                                  16\n",
              "Georgia                                                 16\n",
              "Germany                                                 16\n",
              "Ghana                                                   16\n",
              "Tuvalu                                                   1\n",
              "Cook Islands                                             1\n",
              "Marshall Islands                                         1\n",
              "Monaco                                                   1\n",
              "Palau                                                    1\n",
              "Niue                                                     1\n",
              "San Marino                                               1\n",
              "Nauru                                                    1\n",
              "Saint Kitts and Nevis                                    1\n",
              "Dominica                                                 1\n",
              "Name: Country, dtype: int64"
            ]
          },
          "execution_count": 53,
          "metadata": {},
          "output_type": "execute_result"
        }
      ],
      "source": [
        "df[\"Country\"].value_counts()"
      ]
    },
    {
      "cell_type": "markdown",
      "id": "ad582173",
      "metadata": {
        "id": "ad582173"
      },
      "source": [
        "#Step 2, Data Preprocessing"
      ]
    },
    {
      "cell_type": "markdown",
      "id": "03ccd40a",
      "metadata": {
        "id": "03ccd40a"
      },
      "source": [
        "# 1: Dealing with missing values"
      ]
    },
    {
      "cell_type": "code",
      "execution_count": null,
      "id": "9ec8fca1",
      "metadata": {
        "id": "9ec8fca1",
        "outputId": "812db0a2-14d9-4a38-cbee-f4b3ffac6861"
      },
      "outputs": [
        {
          "data": {
            "text/plain": [
              "Country                              0\n",
              "Year                                 0\n",
              "Status                               0\n",
              "Life expectancy                     10\n",
              "Adult Mortality                     10\n",
              "infant deaths                        0\n",
              "Alcohol                            194\n",
              "percentage expenditure               0\n",
              "Hepatitis B                        553\n",
              "Measles                              0\n",
              " BMI                                34\n",
              "under-five deaths                    0\n",
              "Polio                               19\n",
              "Total expenditure                  226\n",
              "Diphtheria                          19\n",
              " HIV/AIDS                            0\n",
              "GDP                                448\n",
              "Population                         652\n",
              " thinness  1-19 years               34\n",
              " thinness 5-9 years                 34\n",
              "Income composition of resources    167\n",
              "Schooling                          163\n",
              "dtype: int64"
            ]
          },
          "execution_count": 61,
          "metadata": {},
          "output_type": "execute_result"
        }
      ],
      "source": [
        "df.isnull().sum() #Find total number of missing elements per col"
      ]
    },
    {
      "cell_type": "code",
      "execution_count": null,
      "id": "516ffe06",
      "metadata": {
        "id": "516ffe06",
        "outputId": "bd792d96-ac8b-4a60-b8d0-ab5eee4921de"
      },
      "outputs": [
        {
          "data": {
            "text/plain": [
              "Country                              0\n",
              "Year                                 0\n",
              "Status                               0\n",
              "Life expectancy                     10\n",
              "Adult Mortality                     10\n",
              "infant deaths                        0\n",
              "Alcohol                            194\n",
              "percentage expenditure               0\n",
              "Hepatitis B                        553\n",
              "Measles                              0\n",
              " BMI                                34\n",
              "under-five deaths                    0\n",
              "Polio                               19\n",
              "Total expenditure                  226\n",
              "Diphtheria                          19\n",
              " HIV/AIDS                            0\n",
              "GDP                                448\n",
              "Population                         652\n",
              " thinness  1-19 years               34\n",
              " thinness 5-9 years                 34\n",
              "Income composition of resources    167\n",
              "Schooling                          163\n",
              "dtype: int64"
            ]
          },
          "execution_count": 62,
          "metadata": {},
          "output_type": "execute_result"
        }
      ],
      "source": [
        "df.isna().sum()"
      ]
    },
    {
      "cell_type": "code",
      "execution_count": null,
      "id": "ecb79954",
      "metadata": {
        "id": "ecb79954",
        "outputId": "ac102263-9e9b-4199-e8eb-2e6075af7166"
      },
      "outputs": [
        {
          "data": {
            "text/plain": [
              "<AxesSubplot:>"
            ]
          },
          "execution_count": 63,
          "metadata": {},
          "output_type": "execute_result"
        },
        {
          "data": {
            "image/png": "[encoded data removed]",
            "text/plain": [
              "<Figure size 432x288 with 2 Axes>"
            ]
          },
          "metadata": {
            "needs_background": "light"
          },
          "output_type": "display_data"
        }
      ],
      "source": [
        "import seaborn as sns\n",
        "sns.heatmap(df.isnull())"
      ]
    },
    {
      "cell_type": "code",
      "execution_count": null,
      "id": "aae54744",
      "metadata": {
        "id": "aae54744"
      },
      "outputs": [],
      "source": [
        "df.dropna(how = 'any', inplace=True)"
      ]
    },
    {
      "cell_type": "code",
      "execution_count": null,
      "id": "fa639a79",
      "metadata": {
        "id": "fa639a79",
        "outputId": "86a54bde-fcf1-4af2-9339-58c39c3f0dd8"
      },
      "outputs": [
        {
          "data": {
            "text/plain": [
              "Country                            0\n",
              "Year                               0\n",
              "Status                             0\n",
              "Life expectancy                    0\n",
              "Adult Mortality                    0\n",
              "infant deaths                      0\n",
              "Alcohol                            0\n",
              "percentage expenditure             0\n",
              "Hepatitis B                        0\n",
              "Measles                            0\n",
              " BMI                               0\n",
              "under-five deaths                  0\n",
              "Polio                              0\n",
              "Total expenditure                  0\n",
              "Diphtheria                         0\n",
              " HIV/AIDS                          0\n",
              "GDP                                0\n",
              "Population                         0\n",
              " thinness  1-19 years              0\n",
              " thinness 5-9 years                0\n",
              "Income composition of resources    0\n",
              "Schooling                          0\n",
              "dtype: int64"
            ]
          },
          "execution_count": 65,
          "metadata": {},
          "output_type": "execute_result"
        }
      ],
      "source": [
        "df.isnull().sum()"
      ]
    },
    {
      "cell_type": "code",
      "execution_count": null,
      "id": "f19b9c3e",
      "metadata": {
        "id": "f19b9c3e",
        "outputId": "701efe39-d9dd-4ce2-ddaa-a8b0450a2560"
      },
      "outputs": [
        {
          "data": {
            "text/plain": [
              "<AxesSubplot:>"
            ]
          },
          "execution_count": 29,
          "metadata": {},
          "output_type": "execute_result"
        },
        {
          "data": {
            "image/png": "[encoded data removed]",
            "text/plain": [
              "<Figure size 432x288 with 2 Axes>"
            ]
          },
          "metadata": {
            "needs_background": "light"
          },
          "output_type": "display_data"
        }
      ],
      "source": [
        "sns.heatmap(df.isnull())"
      ]
    },
    {
      "cell_type": "code",
      "execution_count": null,
      "id": "5446f312",
      "metadata": {
        "id": "5446f312"
      },
      "outputs": [],
      "source": [
        "df = pd.read_csv(\"C:/Users/eesha/Downloads/archive (30)/Life Expectancy Data.csv\")"
      ]
    },
    {
      "cell_type": "markdown",
      "id": "68a9a3d4",
      "metadata": {
        "id": "68a9a3d4"
      },
      "source": [
        "axis{0 or ‘index’, 1 or ‘columns’}, default 0\n",
        "Determine if rows or columns which contain missing values are removed.\n",
        "\n",
        "0, or ‘index’ : Drop rows which contain missing values.\n",
        "\n",
        "1, or ‘columns’ : Drop columns which contain missing value.\n",
        "\n",
        "Only a single axis is allowed.\n",
        "\n",
        "how{‘any’, ‘all’}, default ‘any’\n",
        "Determine if row or column is removed from DataFrame, when we have at least one NA or all NA.\n",
        "\n",
        "‘any’ : If any NA values are present, drop that row or column.\n",
        "\n",
        "‘all’ : If all values are NA, drop that row or column.\n",
        "\n",
        "threshint, optional\n",
        "Require that many non-NA values. Cannot be combined with how.\n",
        "\n",
        "subsetcolumn label or sequence of labels, optional\n",
        "Labels along other axis to consider, e.g. if you are dropping rows these would be a list of columns to include.\n",
        "\n",
        "inplacebool, default False\n",
        "Whether to modify the DataFrame rather than creating a new one."
      ]
    },
    {
      "cell_type": "code",
      "execution_count": null,
      "id": "653d4890",
      "metadata": {
        "id": "653d4890"
      },
      "outputs": [],
      "source": [
        "df.dropna(axis = 0, thresh=18, inplace=True)\n",
        "\n",
        "#keep rows with atleast 18 nonNA values"
      ]
    },
    {
      "cell_type": "code",
      "execution_count": null,
      "id": "39a7970a",
      "metadata": {
        "id": "39a7970a",
        "outputId": "7d5ffd30-ddc4-4f7e-b5a2-10d4b849f64f"
      },
      "outputs": [
        {
          "data": {
            "text/plain": [
              "Country                              0\n",
              "Year                                 0\n",
              "Status                               0\n",
              "Life expectancy                      6\n",
              "Adult Mortality                      6\n",
              "infant deaths                        0\n",
              "Alcohol                            168\n",
              "percentage expenditure               0\n",
              "Hepatitis B                        494\n",
              "Measles                              0\n",
              " BMI                                15\n",
              "under-five deaths                    0\n",
              "Polio                                8\n",
              "Total expenditure                  174\n",
              "Diphtheria                           8\n",
              " HIV/AIDS                            0\n",
              "GDP                                372\n",
              "Population                         583\n",
              " thinness  1-19 years               15\n",
              " thinness 5-9 years                 15\n",
              "Income composition of resources     98\n",
              "Schooling                           95\n",
              "dtype: int64"
            ]
          },
          "execution_count": 70,
          "metadata": {},
          "output_type": "execute_result"
        }
      ],
      "source": [
        "df.isnull().sum()"
      ]
    },
    {
      "cell_type": "code",
      "execution_count": null,
      "id": "f2484667",
      "metadata": {
        "id": "f2484667",
        "outputId": "2c0e7f13-de20-4d60-d0e5-b6c5be600f9e"
      },
      "outputs": [
        {
          "data": {
            "text/plain": [
              "7508.623326241459"
            ]
          },
          "execution_count": 71,
          "metadata": {},
          "output_type": "execute_result"
        }
      ],
      "source": [
        "df['GDP'].mean()"
      ]
    },
    {
      "cell_type": "code",
      "execution_count": null,
      "id": "ececb526",
      "metadata": {
        "id": "ececb526"
      },
      "outputs": [],
      "source": [
        "df['GDP'].fillna(df['GDP'].mean(), inplace=True)\n",
        "\n",
        "#we decide wether we want to decide mean to fillna or median or mode depending upon the situations"
      ]
    },
    {
      "cell_type": "markdown",
      "id": "e81ce1af",
      "metadata": {
        "id": "e81ce1af"
      },
      "source": [
        "Mean: The mean is a good choice for imputing missing values when the data is normally distributed and has no extreme values (outliers). It is also a good choice when the missing values are missing at random (MAR), meaning that the missing values do not depend on unobserved variables.\n",
        "\n",
        "Median: The median is a good choice for imputing missing values when the data is skewed or has extreme values. It is also a good choice when the missing values are not missing at random (NMAR), meaning that the missing values depend on unobserved variables.\n",
        "\n",
        "Mode: The mode is a good choice for imputing missing values when the data is categorical or discrete. It is also a good choice when the missing values are NMAR, meaning that the missing values depend on unobserved variables."
      ]
    },
    {
      "cell_type": "code",
      "execution_count": null,
      "id": "0801dd41",
      "metadata": {
        "id": "0801dd41",
        "outputId": "9f46c14f-5692-4d74-d4b3-7a68d67788f5"
      },
      "outputs": [
        {
          "data": {
            "text/plain": [
              "Country                              0\n",
              "Year                                 0\n",
              "Status                               0\n",
              "Life expectancy                      6\n",
              "Adult Mortality                      6\n",
              "infant deaths                        0\n",
              "Alcohol                            168\n",
              "percentage expenditure               0\n",
              "Hepatitis B                        494\n",
              "Measles                              0\n",
              " BMI                                15\n",
              "under-five deaths                    0\n",
              "Polio                                8\n",
              "Total expenditure                  174\n",
              "Diphtheria                           8\n",
              " HIV/AIDS                            0\n",
              "GDP                                  0\n",
              "Population                         583\n",
              " thinness  1-19 years               15\n",
              " thinness 5-9 years                 15\n",
              "Income composition of resources     98\n",
              "Schooling                           95\n",
              "dtype: int64"
            ]
          },
          "execution_count": 34,
          "metadata": {},
          "output_type": "execute_result"
        }
      ],
      "source": [
        "df.isnull().sum()"
      ]
    },
    {
      "cell_type": "code",
      "execution_count": null,
      "id": "ffdfd49c",
      "metadata": {
        "id": "ffdfd49c",
        "outputId": "4f3ced4f-f6ff-49df-f4bc-1318485215aa"
      },
      "outputs": [
        {
          "data": {
            "text/plain": [
              "Country                            0\n",
              "Year                               0\n",
              "Status                             0\n",
              "Life expectancy                    0\n",
              "Adult Mortality                    0\n",
              "infant deaths                      0\n",
              "Alcohol                            0\n",
              "percentage expenditure             0\n",
              "Hepatitis B                        0\n",
              "Measles                            0\n",
              " BMI                               0\n",
              "under-five deaths                  0\n",
              "Polio                              0\n",
              "Total expenditure                  0\n",
              "Diphtheria                         0\n",
              " HIV/AIDS                          0\n",
              "GDP                                0\n",
              "Population                         0\n",
              " thinness  1-19 years              0\n",
              " thinness 5-9 years                0\n",
              "Income composition of resources    0\n",
              "Schooling                          0\n",
              "dtype: int64"
            ]
          },
          "execution_count": 35,
          "metadata": {},
          "output_type": "execute_result"
        }
      ],
      "source": [
        "df.fillna(method = 'ffill' , inplace = True)\n",
        "df.isnull().sum()"
      ]
    },
    {
      "cell_type": "markdown",
      "id": "477774a1",
      "metadata": {
        "id": "477774a1"
      },
      "source": [
        "The ‘ffill’ method fills the missing value with the last valid value before that missing value in the data sequence.\n",
        "In other words, if we have data like ‘[1, 3, np.nan, 4]’, using ‘ffill’ will result in ‘[1, 3, 3, 4]’"
      ]
    },
    {
      "cell_type": "code",
      "execution_count": null,
      "id": "06c9c58c",
      "metadata": {
        "id": "06c9c58c",
        "outputId": "6b91f37c-a718-4814-bf81-0e05cec38ce1"
      },
      "outputs": [
        {
          "data": {
            "text/plain": [
              "Country                            0\n",
              "Year                               0\n",
              "Status                             0\n",
              "Life expectancy                    0\n",
              "Adult Mortality                    0\n",
              "infant deaths                      0\n",
              "Alcohol                            0\n",
              "percentage expenditure             0\n",
              "Hepatitis B                        0\n",
              "Measles                            0\n",
              " BMI                               0\n",
              "under-five deaths                  0\n",
              "Polio                              0\n",
              "Total expenditure                  0\n",
              "Diphtheria                         0\n",
              " HIV/AIDS                          0\n",
              "GDP                                0\n",
              "Population                         0\n",
              " thinness  1-19 years              0\n",
              " thinness 5-9 years                0\n",
              "Income composition of resources    0\n",
              "Schooling                          0\n",
              "dtype: int64"
            ]
          },
          "execution_count": 36,
          "metadata": {},
          "output_type": "execute_result"
        }
      ],
      "source": [
        "df = pd.read_csv(\"C:/Users/eesha/Downloads/archive (30)/Life Expectancy Data.csv\")\n",
        "df.fillna(method = 'bfill' , inplace = True)\n",
        "df.isnull().sum()"
      ]
    },
    {
      "cell_type": "markdown",
      "id": "019f4968",
      "metadata": {
        "id": "019f4968"
      },
      "source": [
        "The ‘ffill’ method fills the missing value with the last valid value before that missing value in the data sequence. In other words, if we have data like ‘[1, 3, np.nan, 4]’, using ‘ffill’ will result in ‘[1, 3, 3, 4]’"
      ]
    },
    {
      "cell_type": "code",
      "execution_count": null,
      "id": "8b51168e",
      "metadata": {
        "id": "8b51168e",
        "outputId": "4bb324ab-47b9-4c64-f7c8-1228f1f7a8d9"
      },
      "outputs": [
        {
          "data": {
            "text/html": [
              "<div>\n",
              "<style scoped>\n",
              "    .dataframe tbody tr th:only-of-type {\n",
              "        vertical-align: middle;\n",
              "    }\n",
              "\n",
              "    .dataframe tbody tr th {\n",
              "        vertical-align: top;\n",
              "    }\n",
              "\n",
              "    .dataframe thead th {\n",
              "        text-align: right;\n",
              "    }\n",
              "</style>\n",
              "<table border=\"1\" class=\"dataframe\">\n",
              "  <thead>\n",
              "    <tr style=\"text-align: right;\">\n",
              "      <th></th>\n",
              "      <th>A</th>\n",
              "      <th>B</th>\n",
              "      <th>C</th>\n",
              "      <th>D</th>\n",
              "    </tr>\n",
              "  </thead>\n",
              "  <tbody>\n",
              "    <tr>\n",
              "      <th>0</th>\n",
              "      <td>12.0</td>\n",
              "      <td>NaN</td>\n",
              "      <td>20.0</td>\n",
              "      <td>14.0</td>\n",
              "    </tr>\n",
              "    <tr>\n",
              "      <th>1</th>\n",
              "      <td>4.0</td>\n",
              "      <td>2.0</td>\n",
              "      <td>16.0</td>\n",
              "      <td>3.0</td>\n",
              "    </tr>\n",
              "    <tr>\n",
              "      <th>2</th>\n",
              "      <td>5.0</td>\n",
              "      <td>54.0</td>\n",
              "      <td>NaN</td>\n",
              "      <td>NaN</td>\n",
              "    </tr>\n",
              "    <tr>\n",
              "      <th>3</th>\n",
              "      <td>NaN</td>\n",
              "      <td>3.0</td>\n",
              "      <td>3.0</td>\n",
              "      <td>NaN</td>\n",
              "    </tr>\n",
              "    <tr>\n",
              "      <th>4</th>\n",
              "      <td>1.0</td>\n",
              "      <td>NaN</td>\n",
              "      <td>8.0</td>\n",
              "      <td>6.0</td>\n",
              "    </tr>\n",
              "  </tbody>\n",
              "</table>\n",
              "</div>"
            ],
            "text/plain": [
              "      A     B     C     D\n",
              "0  12.0   NaN  20.0  14.0\n",
              "1   4.0   2.0  16.0   3.0\n",
              "2   5.0  54.0   NaN   NaN\n",
              "3   NaN   3.0   3.0   NaN\n",
              "4   1.0   NaN   8.0   6.0"
            ]
          },
          "execution_count": 39,
          "metadata": {},
          "output_type": "execute_result"
        }
      ],
      "source": [
        "df = pd.DataFrame({\"A\":[12, 4, 5, None, 1],\n",
        "                   \"B\":[None, 2, 54, 3, None],\n",
        "                   \"C\":[20, 16, None, 3, 8],\n",
        "                   \"D\":[14, 3, None, None, 6]})\n",
        "df"
      ]
    },
    {
      "cell_type": "markdown",
      "id": "04359061",
      "metadata": {
        "id": "04359061"
      },
      "source": [
        "\n",
        "Python Pandas interpolate() method is used to fill NaN values in the DataFrame or Series using various interpolation techniques to fill the missing values rather than hard-coding the value."
      ]
    },
    {
      "cell_type": "code",
      "execution_count": null,
      "id": "3a1cb57e",
      "metadata": {
        "id": "3a1cb57e",
        "outputId": "a7ec5dae-0561-4e14-d0c3-2a7968249e16"
      },
      "outputs": [
        {
          "name": "stdout",
          "output_type": "stream",
          "text": [
            "      A     B     C     D\n",
            "0  12.0   NaN  20.0  14.0\n",
            "1   4.0   2.0  16.0   3.0\n",
            "2   5.0  54.0   NaN   NaN\n",
            "3   NaN   3.0   3.0   NaN\n",
            "4   1.0   NaN   8.0   6.0\n",
            "\n",
            "Forward Fill (ffill):\n",
            "      A     B     C     D\n",
            "0  12.0   NaN  20.0  14.0\n",
            "1   4.0   2.0  16.0   3.0\n",
            "2   5.0  54.0  16.0   3.0\n",
            "3   5.0   3.0   3.0   3.0\n",
            "4   1.0   3.0   8.0   6.0\n",
            "\n",
            "Backward Fill (bfill):\n",
            "      A     B     C     D\n",
            "0  12.0   2.0  20.0  14.0\n",
            "1   4.0   2.0  16.0   3.0\n",
            "2   5.0  54.0   3.0   6.0\n",
            "3   1.0   3.0   3.0   6.0\n",
            "4   1.0   NaN   8.0   6.0\n"
          ]
        }
      ],
      "source": [
        "print(df)\n",
        "\n",
        "# 4. Forward Fill (ffill)\n",
        "df_ffill = df.fillna(method='ffill')\n",
        "print(\"\\nForward Fill (ffill):\")\n",
        "print(df_ffill)\n",
        "\n",
        "# 5. Backward Fill (bfill)\n",
        "df_bfill = df.fillna(method='bfill')\n",
        "print(\"\\nBackward Fill (bfill):\")\n",
        "print(df_bfill)"
      ]
    },
    {
      "cell_type": "code",
      "execution_count": null,
      "id": "b49a8a30",
      "metadata": {
        "id": "b49a8a30",
        "outputId": "0b1b326a-0048-456b-8410-711ae15d2654"
      },
      "outputs": [
        {
          "data": {
            "text/plain": [
              "A    0\n",
              "B    1\n",
              "C    0\n",
              "D    0\n",
              "dtype: int64"
            ]
          },
          "execution_count": 43,
          "metadata": {},
          "output_type": "execute_result"
        }
      ],
      "source": [
        "df.interpolate(method = 'linear' , limit_direction = 'forward', inplace = True)\n",
        "df.isnull().sum()"
      ]
    },
    {
      "cell_type": "code",
      "execution_count": null,
      "id": "a0362c53",
      "metadata": {
        "id": "a0362c53",
        "outputId": "ef9d2d3c-392e-4160-e65c-b89eb5f77013"
      },
      "outputs": [
        {
          "data": {
            "text/html": [
              "<div>\n",
              "<style scoped>\n",
              "    .dataframe tbody tr th:only-of-type {\n",
              "        vertical-align: middle;\n",
              "    }\n",
              "\n",
              "    .dataframe tbody tr th {\n",
              "        vertical-align: top;\n",
              "    }\n",
              "\n",
              "    .dataframe thead th {\n",
              "        text-align: right;\n",
              "    }\n",
              "</style>\n",
              "<table border=\"1\" class=\"dataframe\">\n",
              "  <thead>\n",
              "    <tr style=\"text-align: right;\">\n",
              "      <th></th>\n",
              "      <th>A</th>\n",
              "      <th>B</th>\n",
              "      <th>C</th>\n",
              "      <th>D</th>\n",
              "    </tr>\n",
              "  </thead>\n",
              "  <tbody>\n",
              "    <tr>\n",
              "      <th>0</th>\n",
              "      <td>12.0</td>\n",
              "      <td>NaN</td>\n",
              "      <td>20.0</td>\n",
              "      <td>14.0</td>\n",
              "    </tr>\n",
              "    <tr>\n",
              "      <th>1</th>\n",
              "      <td>4.0</td>\n",
              "      <td>2.0</td>\n",
              "      <td>16.0</td>\n",
              "      <td>3.0</td>\n",
              "    </tr>\n",
              "    <tr>\n",
              "      <th>2</th>\n",
              "      <td>5.0</td>\n",
              "      <td>54.0</td>\n",
              "      <td>NaN</td>\n",
              "      <td>NaN</td>\n",
              "    </tr>\n",
              "    <tr>\n",
              "      <th>3</th>\n",
              "      <td>NaN</td>\n",
              "      <td>3.0</td>\n",
              "      <td>3.0</td>\n",
              "      <td>NaN</td>\n",
              "    </tr>\n",
              "    <tr>\n",
              "      <th>4</th>\n",
              "      <td>1.0</td>\n",
              "      <td>NaN</td>\n",
              "      <td>8.0</td>\n",
              "      <td>6.0</td>\n",
              "    </tr>\n",
              "  </tbody>\n",
              "</table>\n",
              "</div>"
            ],
            "text/plain": [
              "      A     B     C     D\n",
              "0  12.0   NaN  20.0  14.0\n",
              "1   4.0   2.0  16.0   3.0\n",
              "2   5.0  54.0   NaN   NaN\n",
              "3   NaN   3.0   3.0   NaN\n",
              "4   1.0   NaN   8.0   6.0"
            ]
          },
          "execution_count": 44,
          "metadata": {},
          "output_type": "execute_result"
        }
      ],
      "source": [
        "\n",
        "# importing pandas as pd\n",
        "import pandas as pd\n",
        "\n",
        "# Creating the dataframe\n",
        "df = pd.DataFrame({\"A\":[12, 4, 5, None, 1],\n",
        "                   \"B\":[None, 2, 54, 3, None],\n",
        "                   \"C\":[20, 16, None, 3, 8],\n",
        "                   \"D\":[14, 3, None, None, 6]})\n",
        "df\n"
      ]
    },
    {
      "cell_type": "code",
      "execution_count": null,
      "id": "9217ef8c",
      "metadata": {
        "id": "9217ef8c",
        "outputId": "d4ee7778-ce44-4716-95f0-e0fc450ccb66"
      },
      "outputs": [
        {
          "data": {
            "text/html": [
              "<div>\n",
              "<style scoped>\n",
              "    .dataframe tbody tr th:only-of-type {\n",
              "        vertical-align: middle;\n",
              "    }\n",
              "\n",
              "    .dataframe tbody tr th {\n",
              "        vertical-align: top;\n",
              "    }\n",
              "\n",
              "    .dataframe thead th {\n",
              "        text-align: right;\n",
              "    }\n",
              "</style>\n",
              "<table border=\"1\" class=\"dataframe\">\n",
              "  <thead>\n",
              "    <tr style=\"text-align: right;\">\n",
              "      <th></th>\n",
              "      <th>A</th>\n",
              "      <th>B</th>\n",
              "      <th>C</th>\n",
              "      <th>D</th>\n",
              "    </tr>\n",
              "  </thead>\n",
              "  <tbody>\n",
              "    <tr>\n",
              "      <th>0</th>\n",
              "      <td>12.0</td>\n",
              "      <td>NaN</td>\n",
              "      <td>20.0</td>\n",
              "      <td>14.0</td>\n",
              "    </tr>\n",
              "    <tr>\n",
              "      <th>1</th>\n",
              "      <td>4.0</td>\n",
              "      <td>2.0</td>\n",
              "      <td>16.0</td>\n",
              "      <td>3.0</td>\n",
              "    </tr>\n",
              "    <tr>\n",
              "      <th>2</th>\n",
              "      <td>5.0</td>\n",
              "      <td>54.0</td>\n",
              "      <td>9.5</td>\n",
              "      <td>4.0</td>\n",
              "    </tr>\n",
              "    <tr>\n",
              "      <th>3</th>\n",
              "      <td>3.0</td>\n",
              "      <td>3.0</td>\n",
              "      <td>3.0</td>\n",
              "      <td>5.0</td>\n",
              "    </tr>\n",
              "    <tr>\n",
              "      <th>4</th>\n",
              "      <td>1.0</td>\n",
              "      <td>3.0</td>\n",
              "      <td>8.0</td>\n",
              "      <td>6.0</td>\n",
              "    </tr>\n",
              "  </tbody>\n",
              "</table>\n",
              "</div>"
            ],
            "text/plain": [
              "      A     B     C     D\n",
              "0  12.0   NaN  20.0  14.0\n",
              "1   4.0   2.0  16.0   3.0\n",
              "2   5.0  54.0   9.5   4.0\n",
              "3   3.0   3.0   3.0   5.0\n",
              "4   1.0   3.0   8.0   6.0"
            ]
          },
          "execution_count": 45,
          "metadata": {},
          "output_type": "execute_result"
        }
      ],
      "source": [
        "\n",
        "# importing pandas as pd\n",
        "import pandas as pd\n",
        "\n",
        "# Creating the dataframe\n",
        "df = pd.DataFrame({\"A\":[12, 4, 5, None, 1],\n",
        "                   \"B\":[None, 2, 54, 3, None],\n",
        "                   \"C\":[20, 16, None, 3, 8],\n",
        "                   \"D\":[14, 3, None, None, 6]})\n",
        "\n",
        "# Print the dataframe\n",
        "# to interpolate the missing values\n",
        "df.interpolate(method ='linear', limit_direction ='forward')"
      ]
    },
    {
      "cell_type": "code",
      "execution_count": null,
      "id": "1d2994a9",
      "metadata": {
        "id": "1d2994a9",
        "outputId": "84285065-1090-41d3-c2c8-8b00236fa6f3"
      },
      "outputs": [
        {
          "name": "stdout",
          "output_type": "stream",
          "text": [
            "      A     B     C     D\n",
            "0  12.0   NaN  20.0  14.0\n",
            "1   4.0   2.0  16.0   3.0\n",
            "2   5.0  54.0   NaN   NaN\n",
            "3   NaN   3.0   3.0   NaN\n",
            "4   1.0   NaN   8.0   6.0\n",
            "\n",
            "Filled using Nearest Interpolation:\n",
            "      A     B     C     D\n",
            "0  12.0   NaN  20.0  14.0\n",
            "1   4.0   2.0  16.0   3.0\n",
            "2   5.0  54.0  16.0   3.0\n",
            "3   5.0   3.0   3.0   6.0\n",
            "4   1.0   NaN   8.0   6.0\n",
            "\n",
            "Filled using Linear Interpolation:\n",
            "      A     B     C     D\n",
            "0  12.0   NaN  20.0  14.0\n",
            "1   4.0   2.0  16.0   3.0\n",
            "2   5.0  54.0   9.5   4.0\n",
            "3   3.0   3.0   3.0   5.0\n",
            "4   1.0   3.0   8.0   6.0\n",
            "\n",
            "Filled using Polynomial Interpolation (Order 2):\n",
            "           A     B     C     D\n",
            "0  12.000000   NaN  20.0  14.0\n",
            "1   4.000000   2.0  16.0   3.0\n",
            "2   5.000000  54.0   8.0  -2.0\n",
            "3   4.578947   3.0   3.0  -1.0\n",
            "4   1.000000   NaN   8.0   6.0\n"
          ]
        }
      ],
      "source": [
        "\n",
        "# importing pandas as pd\n",
        "import pandas as pd\n",
        "\n",
        "# Creating the dataframe\n",
        "df = pd.DataFrame({\"A\":[12, 4, 5, None, 1],\n",
        "                   \"B\":[None, 2, 54, 3, None],\n",
        "                   \"C\":[20, 16, None, 3, 8],\n",
        "                   \"D\":[14, 3, None, None, 6]})\n",
        "\n",
        "print(df)\n",
        "\n",
        "df_nearest = df.interpolate(method='nearest')\n",
        "print(\"\\nFilled using Nearest Interpolation:\")\n",
        "print(df_nearest)\n",
        "\n",
        "df_linear = df.interpolate(method='linear')\n",
        "print(\"\\nFilled using Linear Interpolation:\")\n",
        "print(df_linear)\n",
        "\n",
        "\n",
        "df_polynomial = df.interpolate(method='polynomial', order=2)\n",
        "print(\"\\nFilled using Polynomial Interpolation (Order 2):\")\n",
        "print(df_polynomial)\n",
        "\n"
      ]
    },
    {
      "cell_type": "code",
      "execution_count": null,
      "id": "6f1e3bd1",
      "metadata": {
        "id": "6f1e3bd1",
        "outputId": "2d5e9727-ce61-451a-a871-1a3ff6c20da8"
      },
      "outputs": [
        {
          "data": {
            "text/html": [
              "<div>\n",
              "<style scoped>\n",
              "    .dataframe tbody tr th:only-of-type {\n",
              "        vertical-align: middle;\n",
              "    }\n",
              "\n",
              "    .dataframe tbody tr th {\n",
              "        vertical-align: top;\n",
              "    }\n",
              "\n",
              "    .dataframe thead th {\n",
              "        text-align: right;\n",
              "    }\n",
              "</style>\n",
              "<table border=\"1\" class=\"dataframe\">\n",
              "  <thead>\n",
              "    <tr style=\"text-align: right;\">\n",
              "      <th></th>\n",
              "      <th>A</th>\n",
              "      <th>B</th>\n",
              "      <th>C</th>\n",
              "      <th>D</th>\n",
              "    </tr>\n",
              "  </thead>\n",
              "  <tbody>\n",
              "    <tr>\n",
              "      <th>0</th>\n",
              "      <td>12.0</td>\n",
              "      <td>2.0</td>\n",
              "      <td>20.0</td>\n",
              "      <td>14.0</td>\n",
              "    </tr>\n",
              "    <tr>\n",
              "      <th>1</th>\n",
              "      <td>4.0</td>\n",
              "      <td>2.0</td>\n",
              "      <td>16.0</td>\n",
              "      <td>3.0</td>\n",
              "    </tr>\n",
              "    <tr>\n",
              "      <th>2</th>\n",
              "      <td>5.0</td>\n",
              "      <td>54.0</td>\n",
              "      <td>9.5</td>\n",
              "      <td>NaN</td>\n",
              "    </tr>\n",
              "    <tr>\n",
              "      <th>3</th>\n",
              "      <td>3.0</td>\n",
              "      <td>3.0</td>\n",
              "      <td>3.0</td>\n",
              "      <td>5.0</td>\n",
              "    </tr>\n",
              "    <tr>\n",
              "      <th>4</th>\n",
              "      <td>1.0</td>\n",
              "      <td>NaN</td>\n",
              "      <td>8.0</td>\n",
              "      <td>6.0</td>\n",
              "    </tr>\n",
              "  </tbody>\n",
              "</table>\n",
              "</div>"
            ],
            "text/plain": [
              "      A     B     C     D\n",
              "0  12.0   2.0  20.0  14.0\n",
              "1   4.0   2.0  16.0   3.0\n",
              "2   5.0  54.0   9.5   NaN\n",
              "3   3.0   3.0   3.0   5.0\n",
              "4   1.0   NaN   8.0   6.0"
            ]
          },
          "execution_count": 49,
          "metadata": {},
          "output_type": "execute_result"
        }
      ],
      "source": [
        "# importing pandas as pd\n",
        "import pandas as pd\n",
        "\n",
        "# Creating the dataframe\n",
        "df = pd.DataFrame({\"A\":[12, 4, 5, None, 1],\n",
        "                   \"B\":[None, 2, 54, 3, None],\n",
        "                   \"C\":[20, 16, None, 3, 8],\n",
        "                   \"D\":[14, 3, None, None, 6]})\n",
        "\n",
        "\n",
        "# to interpolate the missing values\n",
        "df.interpolate(method ='linear', limit_direction ='backward', limit = 1)"
      ]
    },
    {
      "cell_type": "code",
      "execution_count": null,
      "id": "1bd3f82a",
      "metadata": {
        "id": "1bd3f82a",
        "outputId": "cb88cfc0-c1f4-4dff-8750-b2f807cf42ce"
      },
      "outputs": [
        {
          "data": {
            "text/html": [
              "<div>\n",
              "<style scoped>\n",
              "    .dataframe tbody tr th:only-of-type {\n",
              "        vertical-align: middle;\n",
              "    }\n",
              "\n",
              "    .dataframe tbody tr th {\n",
              "        vertical-align: top;\n",
              "    }\n",
              "\n",
              "    .dataframe thead th {\n",
              "        text-align: right;\n",
              "    }\n",
              "</style>\n",
              "<table border=\"1\" class=\"dataframe\">\n",
              "  <thead>\n",
              "    <tr style=\"text-align: right;\">\n",
              "      <th></th>\n",
              "      <th>A</th>\n",
              "      <th>B</th>\n",
              "      <th>C</th>\n",
              "      <th>D</th>\n",
              "    </tr>\n",
              "  </thead>\n",
              "  <tbody>\n",
              "    <tr>\n",
              "      <th>0</th>\n",
              "      <td>12.0</td>\n",
              "      <td>2.0</td>\n",
              "      <td>20.0</td>\n",
              "      <td>14.0</td>\n",
              "    </tr>\n",
              "    <tr>\n",
              "      <th>1</th>\n",
              "      <td>4.0</td>\n",
              "      <td>2.0</td>\n",
              "      <td>16.0</td>\n",
              "      <td>3.0</td>\n",
              "    </tr>\n",
              "    <tr>\n",
              "      <th>2</th>\n",
              "      <td>5.0</td>\n",
              "      <td>54.0</td>\n",
              "      <td>9.5</td>\n",
              "      <td>4.0</td>\n",
              "    </tr>\n",
              "    <tr>\n",
              "      <th>3</th>\n",
              "      <td>3.0</td>\n",
              "      <td>3.0</td>\n",
              "      <td>3.0</td>\n",
              "      <td>5.0</td>\n",
              "    </tr>\n",
              "    <tr>\n",
              "      <th>4</th>\n",
              "      <td>1.0</td>\n",
              "      <td>NaN</td>\n",
              "      <td>8.0</td>\n",
              "      <td>6.0</td>\n",
              "    </tr>\n",
              "  </tbody>\n",
              "</table>\n",
              "</div>"
            ],
            "text/plain": [
              "      A     B     C     D\n",
              "0  12.0   2.0  20.0  14.0\n",
              "1   4.0   2.0  16.0   3.0\n",
              "2   5.0  54.0   9.5   4.0\n",
              "3   3.0   3.0   3.0   5.0\n",
              "4   1.0   NaN   8.0   6.0"
            ]
          },
          "execution_count": 32,
          "metadata": {},
          "output_type": "execute_result"
        }
      ],
      "source": [
        "# Creating the dataframe\n",
        "df = pd.DataFrame({\"A\":[12, 4, 5, None, 1],\n",
        "                   \"B\":[None, 2, 54, 3, None],\n",
        "                   \"C\":[20, 16, None, 3, 8],\n",
        "                   \"D\":[14, 3, None, None, 6]})\n",
        "\n",
        "\n",
        "# to interpolate the missing values\n",
        "df.interpolate(method ='linear', limit_direction ='backward')"
      ]
    },
    {
      "cell_type": "markdown",
      "id": "124c2dd9",
      "metadata": {
        "id": "124c2dd9"
      },
      "source": [
        "Interpolation is a method of deriving a simple function from the given discrete data set such that the function passes through the provided data points. This helps to determine the data points in between the given data ones. This method is always needed to compute the value of a function for an intermediate value of the independent function. In short, interpolation is a process of determining the unknown values that lie in between the known data points. It is mostly used to predict the unknown values for any geographical related data points such as noise level, rainfall, elevation, and so on."
      ]
    },
    {
      "cell_type": "code",
      "execution_count": null,
      "id": "7c5dcc91",
      "metadata": {
        "id": "7c5dcc91",
        "outputId": "4fa94791-c539-470f-c22a-e1adf89b2af4"
      },
      "outputs": [
        {
          "name": "stderr",
          "output_type": "stream",
          "text": [
            "C:\\Users\\eesha\\AppData\\Local\\Temp\\ipykernel_22572\\1455860051.py:2: DtypeWarning: Columns (7) have mixed types. Specify dtype option on import or set low_memory=False.\n",
            "  data2 = pd.read_csv(\"C:/Users/eesha/Downloads/train.csv (1)/train.csv\")\n"
          ]
        }
      ],
      "source": [
        "data1 = pd.read_csv(\"C:/Users/eesha/Downloads/store.csv\")\n",
        "data2 = pd.read_csv(\"C:/Users/eesha/Downloads/train.csv (1)/train.csv\")"
      ]
    },
    {
      "cell_type": "code",
      "execution_count": null,
      "id": "2d101f3e",
      "metadata": {
        "id": "2d101f3e"
      },
      "outputs": [],
      "source": [
        "df = data1.merge(data2,on='Store') #merging"
      ]
    },
    {
      "cell_type": "code",
      "execution_count": null,
      "id": "8b2f70b3",
      "metadata": {
        "id": "8b2f70b3",
        "outputId": "f77d1753-cffb-4228-8069-85eb74fb2914"
      },
      "outputs": [
        {
          "data": {
            "text/plain": [
              "Store                             0\n",
              "StoreType                         0\n",
              "Assortment                        0\n",
              "CompetitionDistance            2642\n",
              "CompetitionOpenSinceMonth    323348\n",
              "CompetitionOpenSinceYear     323348\n",
              "Promo2                            0\n",
              "Promo2SinceWeek              508031\n",
              "Promo2SinceYear              508031\n",
              "PromoInterval                508031\n",
              "DayOfWeek                         0\n",
              "Date                              0\n",
              "Sales                             0\n",
              "Customers                         0\n",
              "Open                              0\n",
              "Promo                             0\n",
              "StateHoliday                      0\n",
              "SchoolHoliday                     0\n",
              "dtype: int64"
            ]
          },
          "execution_count": 74,
          "metadata": {},
          "output_type": "execute_result"
        }
      ],
      "source": [
        "df.isna().sum()"
      ]
    },
    {
      "cell_type": "code",
      "execution_count": null,
      "id": "fa17c604",
      "metadata": {
        "id": "fa17c604",
        "outputId": "01b726e4-d7d7-46a9-90ff-85d581003a47"
      },
      "outputs": [
        {
          "name": "stdout",
          "output_type": "stream",
          "text": [
            "Store                          int64\n",
            "StoreType                     object\n",
            "Assortment                    object\n",
            "CompetitionDistance          float64\n",
            "CompetitionOpenSinceMonth    float64\n",
            "CompetitionOpenSinceYear     float64\n",
            "Promo2                         int64\n",
            "Promo2SinceWeek              float64\n",
            "Promo2SinceYear              float64\n",
            "PromoInterval                 object\n",
            "DayOfWeek                      int64\n",
            "Date                          object\n",
            "Sales                          int64\n",
            "Customers                      int64\n",
            "Open                           int64\n",
            "Promo                          int64\n",
            "StateHoliday                  object\n",
            "SchoolHoliday                  int64\n",
            "dtype: object\n"
          ]
        }
      ],
      "source": [
        "result = df.dtypes\n",
        "print(result)"
      ]
    },
    {
      "cell_type": "code",
      "execution_count": null,
      "id": "c096bbe6",
      "metadata": {
        "id": "c096bbe6",
        "outputId": "08223958-b7cd-439e-fdbf-5ff0db150599"
      },
      "outputs": [
        {
          "data": {
            "image/png": "[encoded data removed]",
            "text/plain": [
              "<Figure size 432x288 with 1 Axes>"
            ]
          },
          "metadata": {
            "needs_background": "light"
          },
          "output_type": "display_data"
        },
        {
          "data": {
            "image/png": "[encoded data removed]",
            "text/plain": [
              "<Figure size 432x288 with 1 Axes>"
            ]
          },
          "metadata": {
            "needs_background": "light"
          },
          "output_type": "display_data"
        },
        {
          "data": {
            "image/png": "[encoded data removed]",
            "text/plain": [
              "<Figure size 432x288 with 1 Axes>"
            ]
          },
          "metadata": {
            "needs_background": "light"
          },
          "output_type": "display_data"
        },
        {
          "data": {
            "image/png": "[encoded data removed]",
            "text/plain": [
              "<Figure size 432x288 with 1 Axes>"
            ]
          },
          "metadata": {
            "needs_background": "light"
          },
          "output_type": "display_data"
        },
        {
          "data": {
            "image/png": "[encoded data removed]",
            "text/plain": [
              "<Figure size 432x288 with 1 Axes>"
            ]
          },
          "metadata": {
            "needs_background": "light"
          },
          "output_type": "display_data"
        }
      ],
      "source": [
        "for col in df.columns:\n",
        "    if (df[col].isna().sum() > 0) and (df[col].dtype!='object'):\n",
        "        plt.hist(df[col], ec='black')\n",
        "        plt.title(f\"Histogram of {col}\")\n",
        "        plt.xlabel(col)\n",
        "        plt.ylabel(\"Frequency\")\n",
        "        plt.show()"
      ]
    },
    {
      "cell_type": "code",
      "execution_count": null,
      "id": "efd3af4d",
      "metadata": {
        "id": "efd3af4d"
      },
      "outputs": [],
      "source": [
        "median = df['CompetitionDistance'].median()\n",
        "df['CompetitionDistance'].fillna(median, inplace=True)"
      ]
    },
    {
      "cell_type": "code",
      "execution_count": null,
      "id": "c4ccc4c7",
      "metadata": {
        "id": "c4ccc4c7"
      },
      "outputs": [],
      "source": [
        "mean = df['CompetitionOpenSinceMonth'].mean()\n",
        "df['CompetitionOpenSinceMonth'].fillna(mean, inplace=True)"
      ]
    },
    {
      "cell_type": "code",
      "execution_count": null,
      "id": "fc1ce5f7",
      "metadata": {
        "id": "fc1ce5f7"
      },
      "outputs": [],
      "source": [
        "median = df['CompetitionOpenSinceYear'].median()\n",
        "df['CompetitionOpenSinceYear'].fillna(median, inplace=True)"
      ]
    },
    {
      "cell_type": "code",
      "execution_count": null,
      "id": "1349673b",
      "metadata": {
        "id": "1349673b"
      },
      "outputs": [],
      "source": [
        "mean = df['Promo2SinceWeek'].mean()\n",
        "df['Promo2SinceWeek'].fillna(mean, inplace=True)"
      ]
    },
    {
      "cell_type": "markdown",
      "source": [
        "#2:Feature Scaling"
      ],
      "metadata": {
        "id": "lLzczHJUipTy"
      },
      "id": "lLzczHJUipTy"
    },
    {
      "cell_type": "code",
      "source": [
        "import pandas as pd\n",
        "\n",
        "# Sample healthcare-like dataset\n",
        "data = {\n",
        "    'Age': [25, 45, 35, 50, 23],\n",
        "    'BloodPressure': [120, 140, 130, 150, 110],\n",
        "    'Glucose': [85, 100, 95, 105, 80]\n",
        "}\n",
        "\n",
        "df = pd.DataFrame(data)\n",
        "print(\"Original Data:\\n\", df)\n"
      ],
      "metadata": {
        "colab": {
          "base_uri": "https://localhost:8080/"
        },
        "id": "AnFT6-ZQjX7H",
        "outputId": "eec50960-1f0b-4538-c27b-edae9d5764d9"
      },
      "id": "AnFT6-ZQjX7H",
      "execution_count": 1,
      "outputs": [
        {
          "output_type": "stream",
          "name": "stdout",
          "text": [
            "Original Data:\n",
            "    Age  BloodPressure  Glucose\n",
            "0   25            120       85\n",
            "1   45            140      100\n",
            "2   35            130       95\n",
            "3   50            150      105\n",
            "4   23            110       80\n"
          ]
        }
      ]
    },
    {
      "cell_type": "markdown",
      "source": [
        "Standard Scalar"
      ],
      "metadata": {
        "id": "-rD-d_mNjdT3"
      },
      "id": "-rD-d_mNjdT3"
    },
    {
      "cell_type": "code",
      "source": [
        "\n",
        "from sklearn.preprocessing import StandardScaler\n",
        "\n",
        "scaler = StandardScaler()\n",
        "scaled_data = scaler.fit_transform(df)\n",
        "\n",
        "df_standardized = pd.DataFrame(scaled_data, columns=df.columns)\n",
        "print(\"\\nStandardized Data (mean=0, std=1):\\n\", df_standardized)"
      ],
      "metadata": {
        "colab": {
          "base_uri": "https://localhost:8080/"
        },
        "id": "T7_FudnQjY8m",
        "outputId": "18b3342e-7979-40d4-cd2e-7656cd971a91"
      },
      "id": "T7_FudnQjY8m",
      "execution_count": 2,
      "outputs": [
        {
          "output_type": "stream",
          "name": "stdout",
          "text": [
            "\n",
            "Standardized Data (mean=0, std=1):\n",
            "         Age  BloodPressure   Glucose\n",
            "0 -0.995228      -0.707107 -0.862662\n",
            "1  0.882561       0.707107  0.754829\n",
            "2 -0.056334       0.000000  0.215666\n",
            "3  1.352008       1.414214  1.293993\n",
            "4 -1.183007      -1.414214 -1.401826\n"
          ]
        }
      ]
    },
    {
      "cell_type": "markdown",
      "source": [
        "Min-Max Scalar"
      ],
      "metadata": {
        "id": "oENdNNVAjnA1"
      },
      "id": "oENdNNVAjnA1"
    },
    {
      "cell_type": "code",
      "source": [
        "from sklearn.preprocessing import MinMaxScaler\n",
        "\n",
        "scaler = MinMaxScaler()\n",
        "scaled_data = scaler.fit_transform(df)\n",
        "\n",
        "df_minmax = pd.DataFrame(scaled_data, columns=df.columns)\n",
        "print(\"\\nMin-Max Scaled Data ([0, 1] range):\\n\", df_minmax)"
      ],
      "metadata": {
        "colab": {
          "base_uri": "https://localhost:8080/"
        },
        "id": "LeDHoEkMjt8e",
        "outputId": "bdd6bc55-3f93-46f4-8389-a00e26f60eb2"
      },
      "id": "LeDHoEkMjt8e",
      "execution_count": 4,
      "outputs": [
        {
          "output_type": "stream",
          "name": "stdout",
          "text": [
            "\n",
            "Min-Max Scaled Data ([0, 1] range):\n",
            "         Age  BloodPressure  Glucose\n",
            "0  0.074074           0.25      0.2\n",
            "1  0.814815           0.75      0.8\n",
            "2  0.444444           0.50      0.6\n",
            "3  1.000000           1.00      1.0\n",
            "4  0.000000           0.00      0.0\n"
          ]
        }
      ]
    },
    {
      "cell_type": "markdown",
      "id": "32c20c23",
      "metadata": {
        "id": "32c20c23"
      },
      "source": [
        "# Step 3: Outlier detection"
      ]
    },
    {
      "cell_type": "code",
      "execution_count": null,
      "id": "1f9468e1",
      "metadata": {
        "id": "1f9468e1"
      },
      "outputs": [],
      "source": [
        "def find_outliers_IQR(df):\n",
        "\n",
        "   q1=df.quantile(0.25)\n",
        "\n",
        "   q3=df.quantile(0.75)\n",
        "   IQR=q3-q1\n",
        "   outliers = df[((df<(q1-1.5*IQR)) | (df>(q3+1.5*IQR)))]\n",
        "\n",
        "   return outliers\n",
        "\n",
        "def remove_outliers(df):\n",
        "\n",
        "   q1=df.quantile(0.25)\n",
        "\n",
        "   q3=df.quantile(0.75)\n",
        "   IQR=q3-q1\n",
        "\n",
        "   ''' Removing the Outliers '''\n",
        "   df = df[~((df < (q1 - 1.5 * IQR)) |(df > (q3 + 1.5 * IQR)))]\n",
        "   return df\n",
        "\n",
        "def impute_outliers_IQR(df):\n",
        "\n",
        "   q1=df.quantile(0.25)\n",
        "\n",
        "   q3=df.quantile(0.75)\n",
        "\n",
        "   IQR=q3-q1\n",
        "\n",
        "   upper = df[~(df>(q3+1.5*IQR))].max()\n",
        "\n",
        "   lower = df[~(df<(q1-1.5*IQR))].min()\n",
        "\n",
        "   df = np.where(df > upper,\n",
        "\n",
        "       df.mean(),\n",
        "\n",
        "       np.where(\n",
        "\n",
        "           df < lower,\n",
        "\n",
        "           df.mean(),\n",
        "\n",
        "           df\n",
        "\n",
        "           )\n",
        "\n",
        "       )\n",
        "\n",
        "\n",
        "   return pd.Series(df)"
      ]
    },
    {
      "cell_type": "code",
      "execution_count": null,
      "id": "7472bfe9",
      "metadata": {
        "id": "7472bfe9"
      },
      "outputs": [],
      "source": [
        "for col in df.columns:\n",
        "  if df[col].dtype=='int64' or df[col].dtype=='float64':\n",
        "    outliers = find_outliers_IQR(df[col])\n",
        "    print(f\"Number of outliers in {col}: {len(outliers)}\")"
      ]
    },
    {
      "cell_type": "markdown",
      "id": "3dd7696f",
      "metadata": {
        "id": "3dd7696f"
      },
      "source": [
        "# Step 5: Corelation Analysis"
      ]
    },
    {
      "cell_type": "code",
      "execution_count": null,
      "id": "6ca49ac9",
      "metadata": {
        "id": "6ca49ac9",
        "outputId": "ffd18e3d-8820-4289-bbe9-77af75904d7a"
      },
      "outputs": [
        {
          "data": {
            "image/png": "[encoded data removed]",
            "text/plain": [
              "<Figure size 1296x864 with 2 Axes>"
            ]
          },
          "metadata": {
            "needs_background": "light"
          },
          "output_type": "display_data"
        }
      ],
      "source": [
        "corr = df.corr()\n",
        "plt.figure(figsize=(18,12))\n",
        "sns.heatmap(corr,annot=True)\n",
        "plt.show()"
      ]
    },
    {
      "cell_type": "markdown",
      "id": "5754ed1b",
      "metadata": {
        "id": "5754ed1b"
      },
      "source": [
        "# Step 4: Encoding (if required)"
      ]
    },
    {
      "cell_type": "code",
      "execution_count": null,
      "id": "cd53156e",
      "metadata": {
        "id": "cd53156e"
      },
      "outputs": [],
      "source": [
        "from sklearn.preprocessing import LabelEncoder,OneHotEncoder"
      ]
    },
    {
      "cell_type": "code",
      "execution_count": null,
      "id": "23c260ec",
      "metadata": {
        "id": "23c260ec",
        "outputId": "ed7877e4-6c08-46e1-9a80-b07d410e5d75"
      },
      "outputs": [
        {
          "data": {
            "text/plain": [
              "array(['c', 'a', 'd', 'b'], dtype=object)"
            ]
          },
          "execution_count": 94,
          "metadata": {},
          "output_type": "execute_result"
        }
      ],
      "source": [
        "df['StoreType'].unique()"
      ]
    },
    {
      "cell_type": "markdown",
      "id": "c8825a3b",
      "metadata": {
        "id": "c8825a3b"
      },
      "source": [
        "Label Encoding is a common technique for converting categorical variables into numerical values. Each unique category value is assigned a unique integer based on alphabetical or numerical ordering."
      ]
    },
    {
      "cell_type": "code",
      "execution_count": null,
      "id": "96e5d5c3",
      "metadata": {
        "id": "96e5d5c3",
        "outputId": "1494a55c-d904-431d-ee02-5c736397c56e"
      },
      "outputs": [
        {
          "ename": "MemoryError",
          "evalue": "",
          "output_type": "error",
          "traceback": [
            "\u001b[1;31m---------------------------------------------------------------------------\u001b[0m",
            "\u001b[1;31mMemoryError\u001b[0m                               Traceback (most recent call last)",
            "Input \u001b[1;32mIn [95]\u001b[0m, in \u001b[0;36m<cell line: 3>\u001b[1;34m()\u001b[0m\n\u001b[0;32m      1\u001b[0m encoder \u001b[38;5;241m=\u001b[39m LabelEncoder()\n\u001b[0;32m      2\u001b[0m df[\u001b[38;5;124m'\u001b[39m\u001b[38;5;124mStoreType\u001b[39m\u001b[38;5;124m'\u001b[39m] \u001b[38;5;241m=\u001b[39m encoder\u001b[38;5;241m.\u001b[39mfit_transform(df[\u001b[38;5;124m'\u001b[39m\u001b[38;5;124mStoreType\u001b[39m\u001b[38;5;124m'\u001b[39m])\n\u001b[1;32m----> 3\u001b[0m \u001b[38;5;28;43mprint\u001b[39;49m\u001b[43m(\u001b[49m\u001b[43mdf\u001b[49m\u001b[43m[\u001b[49m\u001b[38;5;124;43m'\u001b[39;49m\u001b[38;5;124;43mStoreType\u001b[39;49m\u001b[38;5;124;43m'\u001b[39;49m\u001b[43m]\u001b[49m\u001b[43m)\u001b[49m\n",
            "File \u001b[1;32m~\\anaconda\\lib\\site-packages\\pandas\\core\\series.py:1504\u001b[0m, in \u001b[0;36mSeries.__repr__\u001b[1;34m(self)\u001b[0m\n\u001b[0;32m   1500\u001b[0m \u001b[38;5;124;03m\"\"\"\u001b[39;00m\n\u001b[0;32m   1501\u001b[0m \u001b[38;5;124;03mReturn a string representation for a particular Series.\u001b[39;00m\n\u001b[0;32m   1502\u001b[0m \u001b[38;5;124;03m\"\"\"\u001b[39;00m\n\u001b[0;32m   1503\u001b[0m repr_params \u001b[38;5;241m=\u001b[39m fmt\u001b[38;5;241m.\u001b[39mget_series_repr_params()\n\u001b[1;32m-> 1504\u001b[0m \u001b[38;5;28;01mreturn\u001b[39;00m \u001b[38;5;28mself\u001b[39m\u001b[38;5;241m.\u001b[39mto_string(\u001b[38;5;241m*\u001b[39m\u001b[38;5;241m*\u001b[39mrepr_params)\n",
            "File \u001b[1;32m~\\anaconda\\lib\\site-packages\\pandas\\core\\series.py:1565\u001b[0m, in \u001b[0;36mSeries.to_string\u001b[1;34m(self, buf, na_rep, float_format, header, index, length, dtype, name, max_rows, min_rows)\u001b[0m\n\u001b[0;32m   1519\u001b[0m \u001b[38;5;124;03m\"\"\"\u001b[39;00m\n\u001b[0;32m   1520\u001b[0m \u001b[38;5;124;03mRender a string representation of the Series.\u001b[39;00m\n\u001b[0;32m   1521\u001b[0m \n\u001b[1;32m   (...)\u001b[0m\n\u001b[0;32m   1551\u001b[0m \u001b[38;5;124;03m    String representation of Series if ``buf=None``, otherwise None.\u001b[39;00m\n\u001b[0;32m   1552\u001b[0m \u001b[38;5;124;03m\"\"\"\u001b[39;00m\n\u001b[0;32m   1553\u001b[0m formatter \u001b[38;5;241m=\u001b[39m fmt\u001b[38;5;241m.\u001b[39mSeriesFormatter(\n\u001b[0;32m   1554\u001b[0m     \u001b[38;5;28mself\u001b[39m,\n\u001b[0;32m   1555\u001b[0m     name\u001b[38;5;241m=\u001b[39mname,\n\u001b[1;32m   (...)\u001b[0m\n\u001b[0;32m   1563\u001b[0m     max_rows\u001b[38;5;241m=\u001b[39mmax_rows,\n\u001b[0;32m   1564\u001b[0m )\n\u001b[1;32m-> 1565\u001b[0m result \u001b[38;5;241m=\u001b[39m \u001b[43mformatter\u001b[49m\u001b[38;5;241;43m.\u001b[39;49m\u001b[43mto_string\u001b[49m\u001b[43m(\u001b[49m\u001b[43m)\u001b[49m\n\u001b[0;32m   1567\u001b[0m \u001b[38;5;66;03m# catch contract violations\u001b[39;00m\n\u001b[0;32m   1568\u001b[0m \u001b[38;5;28;01mif\u001b[39;00m \u001b[38;5;129;01mnot\u001b[39;00m \u001b[38;5;28misinstance\u001b[39m(result, \u001b[38;5;28mstr\u001b[39m):\n",
            "File \u001b[1;32m~\\anaconda\\lib\\site-packages\\pandas\\io\\formats\\format.py:409\u001b[0m, in \u001b[0;36mto_string\u001b[1;34m(self)\u001b[0m\n",
            "File \u001b[1;32m~\\anaconda\\lib\\site-packages\\pandas\\io\\formats\\format.py:433\u001b[0m, in \u001b[0;36madjoin\u001b[1;34m(self, space, *lists, **kwargs)\u001b[0m\n",
            "File \u001b[1;32m~\\anaconda\\lib\\site-packages\\pandas\\io\\formats\\printing.py:58\u001b[0m, in \u001b[0;36madjoin\u001b[1;34m(space, *lists, **kwargs)\u001b[0m\n\u001b[0;32m     56\u001b[0m toJoin \u001b[38;5;241m=\u001b[39m \u001b[38;5;28mzip\u001b[39m(\u001b[38;5;241m*\u001b[39mnewLists)\n\u001b[0;32m     57\u001b[0m \u001b[38;5;28;01mfor\u001b[39;00m lines \u001b[38;5;129;01min\u001b[39;00m toJoin:\n\u001b[1;32m---> 58\u001b[0m     \u001b[43mout_lines\u001b[49m\u001b[38;5;241;43m.\u001b[39;49m\u001b[43mappend\u001b[49m\u001b[43m(\u001b[49m\u001b[38;5;124;43m\"\u001b[39;49m\u001b[38;5;124;43m\"\u001b[39;49m\u001b[38;5;241;43m.\u001b[39;49m\u001b[43mjoin\u001b[49m\u001b[43m(\u001b[49m\u001b[43mlines\u001b[49m\u001b[43m)\u001b[49m\u001b[43m)\u001b[49m\n\u001b[0;32m     59\u001b[0m \u001b[38;5;28;01mreturn\u001b[39;00m \u001b[38;5;124m\"\u001b[39m\u001b[38;5;130;01m\\n\u001b[39;00m\u001b[38;5;124m\"\u001b[39m\u001b[38;5;241m.\u001b[39mjoin(out_lines)\n",
            "\u001b[1;31mMemoryError\u001b[0m: "
          ]
        }
      ],
      "source": [
        "encoder = LabelEncoder()\n",
        "df['StoreType'] = encoder.fit_transform(df['StoreType'])\n",
        "print(df['StoreType'])"
      ]
    },
    {
      "cell_type": "code",
      "execution_count": null,
      "id": "d45154d5",
      "metadata": {
        "id": "d45154d5",
        "outputId": "600b33cd-79c1-41eb-b49d-b7aa8c792749"
      },
      "outputs": [
        {
          "data": {
            "text/plain": [
              "array([2, 0, 3, 1], dtype=int64)"
            ]
          },
          "execution_count": 12,
          "metadata": {},
          "output_type": "execute_result"
        }
      ],
      "source": [
        "df['StoreType'].unique()"
      ]
    },
    {
      "cell_type": "code",
      "execution_count": null,
      "id": "0fe49dc0",
      "metadata": {
        "id": "0fe49dc0",
        "outputId": "4fdbea2e-4881-467b-fc77-ca9cfcb694e7"
      },
      "outputs": [
        {
          "name": "stdout",
          "output_type": "stream",
          "text": [
            "   Store StoreType  CompetitionDistance  CompetitionOpenSinceMonth  \\\n",
            "0      1         c               1270.0                        9.0   \n",
            "1      1         c               1270.0                        9.0   \n",
            "\n",
            "   CompetitionOpenSinceYear  Promo2  Promo2SinceWeek  Promo2SinceYear  \\\n",
            "0                    2008.0       0              NaN              NaN   \n",
            "1                    2008.0       0              NaN              NaN   \n",
            "\n",
            "  PromoInterval  DayOfWeek        Date  Sales  Customers  Open  Promo  \\\n",
            "0           NaN          5  2015-07-31   5263        555     1      1   \n",
            "1           NaN          4  2015-07-30   5020        546     1      1   \n",
            "\n",
            "  StateHoliday  SchoolHoliday  Assortment_a  Assortment_b  Assortment_c  \n",
            "0            0              1             1             0             0  \n",
            "1            0              1             1             0             0  \n"
          ]
        }
      ],
      "source": [
        "df = pd.get_dummies(df, columns=['Assortment'], prefix=['Assortment'])\n",
        "print(df.head(2))"
      ]
    },
    {
      "cell_type": "code",
      "execution_count": null,
      "id": "28ba6c79",
      "metadata": {
        "id": "28ba6c79",
        "outputId": "a80d9762-84ae-4ce1-e476-794d3104b15a"
      },
      "outputs": [
        {
          "name": "stdout",
          "output_type": "stream",
          "text": [
            "[[1. 0. 0.]\n",
            " [0. 0. 1.]\n",
            " [0. 1. 0.]\n",
            " [1. 0. 0.]]\n"
          ]
        }
      ],
      "source": [
        "from sklearn.preprocessing import OneHotEncoder\n",
        "\n",
        "# Reshape data to fit the encoder input\n",
        "\n",
        "categories = [['apple'], ['orange'], ['banana'], ['apple']]\n",
        "\n",
        "encoder = OneHotEncoder(sparse=False)\n",
        "\n",
        "encoder.fit(categories)\n",
        "\n",
        "# Transform categories\n",
        "\n",
        "encoded_categories = encoder.transform(categories)\n",
        "\n",
        "print(encoded_categories)"
      ]
    },
    {
      "cell_type": "code",
      "execution_count": null,
      "id": "fc4a1613",
      "metadata": {
        "id": "fc4a1613",
        "outputId": "a8093d79-0587-4da4-9d3a-a648fb75dae6"
      },
      "outputs": [
        {
          "name": "stdout",
          "output_type": "stream",
          "text": [
            "   fruit_apple  fruit_banana  fruit_orange\n",
            "0            1             0             0\n",
            "1            0             0             1\n",
            "2            0             1             0\n",
            "3            1             0             0\n"
          ]
        }
      ],
      "source": [
        "import pandas as pd\n",
        "\n",
        "# Sample categorical data\n",
        "\n",
        "data = {'fruit': ['apple', 'orange', 'banana', 'apple']}\n",
        "\n",
        "df = pd.DataFrame(data)\n",
        "\n",
        "# One Hot Encoding using Pandas get_dummies\n",
        "\n",
        "encoded_df = pd.get_dummies(df, columns=['fruit'])\n",
        "\n",
        "print(encoded_df)"
      ]
    },
    {
      "cell_type": "markdown",
      "id": "7bdf253f",
      "metadata": {
        "id": "7bdf253f"
      },
      "source": [
        "![one%20hot%20encoding.png](attachment:one%20hot%20encoding.png)"
      ]
    },
    {
      "cell_type": "markdown",
      "id": "c6ead1c0",
      "metadata": {
        "id": "c6ead1c0"
      },
      "source": [
        "# Step 5: Data Aggregation"
      ]
    },
    {
      "cell_type": "code",
      "execution_count": null,
      "id": "d51b40fb",
      "metadata": {
        "id": "d51b40fb",
        "outputId": "2c6485e1-8c3b-4253-df79-1e2703abf249"
      },
      "outputs": [
        {
          "data": {
            "text/html": [
              "<div>\n",
              "<style scoped>\n",
              "    .dataframe tbody tr th:only-of-type {\n",
              "        vertical-align: middle;\n",
              "    }\n",
              "\n",
              "    .dataframe tbody tr th {\n",
              "        vertical-align: top;\n",
              "    }\n",
              "\n",
              "    .dataframe thead th {\n",
              "        text-align: right;\n",
              "    }\n",
              "</style>\n",
              "<table border=\"1\" class=\"dataframe\">\n",
              "  <thead>\n",
              "    <tr style=\"text-align: right;\">\n",
              "      <th></th>\n",
              "      <th>A</th>\n",
              "      <th>B</th>\n",
              "      <th>C</th>\n",
              "      <th>D</th>\n",
              "    </tr>\n",
              "  </thead>\n",
              "  <tbody>\n",
              "    <tr>\n",
              "      <th>0</th>\n",
              "      <td>A0</td>\n",
              "      <td>B0</td>\n",
              "      <td>C0</td>\n",
              "      <td>D0</td>\n",
              "    </tr>\n",
              "    <tr>\n",
              "      <th>1</th>\n",
              "      <td>A1</td>\n",
              "      <td>B1</td>\n",
              "      <td>C1</td>\n",
              "      <td>D1</td>\n",
              "    </tr>\n",
              "    <tr>\n",
              "      <th>2</th>\n",
              "      <td>A2</td>\n",
              "      <td>B2</td>\n",
              "      <td>C2</td>\n",
              "      <td>D2</td>\n",
              "    </tr>\n",
              "    <tr>\n",
              "      <th>3</th>\n",
              "      <td>A3</td>\n",
              "      <td>B3</td>\n",
              "      <td>C3</td>\n",
              "      <td>D3</td>\n",
              "    </tr>\n",
              "  </tbody>\n",
              "</table>\n",
              "</div>"
            ],
            "text/plain": [
              "    A   B   C   D\n",
              "0  A0  B0  C0  D0\n",
              "1  A1  B1  C1  D1\n",
              "2  A2  B2  C2  D2\n",
              "3  A3  B3  C3  D3"
            ]
          },
          "execution_count": 1,
          "metadata": {},
          "output_type": "execute_result"
        }
      ],
      "source": [
        "import pandas as pd\n",
        "df1 = pd.DataFrame(\n",
        "    {\n",
        "        \"A\": [\"A0\", \"A1\", \"A2\", \"A3\"],\n",
        "        \"B\": [\"B0\", \"B1\", \"B2\", \"B3\"],\n",
        "        \"C\": [\"C0\", \"C1\", \"C2\", \"C3\"],\n",
        "        \"D\": [\"D0\", \"D1\", \"D2\", \"D3\"],\n",
        "    },\n",
        "    index=[0, 1, 2, 3],\n",
        ")\n",
        "\n",
        "df1"
      ]
    },
    {
      "cell_type": "code",
      "execution_count": null,
      "id": "ab4da130",
      "metadata": {
        "id": "ab4da130",
        "outputId": "feea7f77-5e09-4ea9-9078-361545389637"
      },
      "outputs": [
        {
          "data": {
            "text/html": [
              "<div>\n",
              "<style scoped>\n",
              "    .dataframe tbody tr th:only-of-type {\n",
              "        vertical-align: middle;\n",
              "    }\n",
              "\n",
              "    .dataframe tbody tr th {\n",
              "        vertical-align: top;\n",
              "    }\n",
              "\n",
              "    .dataframe thead th {\n",
              "        text-align: right;\n",
              "    }\n",
              "</style>\n",
              "<table border=\"1\" class=\"dataframe\">\n",
              "  <thead>\n",
              "    <tr style=\"text-align: right;\">\n",
              "      <th></th>\n",
              "      <th>A</th>\n",
              "      <th>B</th>\n",
              "      <th>C</th>\n",
              "      <th>D</th>\n",
              "    </tr>\n",
              "  </thead>\n",
              "  <tbody>\n",
              "    <tr>\n",
              "      <th>4</th>\n",
              "      <td>A4</td>\n",
              "      <td>B4</td>\n",
              "      <td>C4</td>\n",
              "      <td>D4</td>\n",
              "    </tr>\n",
              "    <tr>\n",
              "      <th>5</th>\n",
              "      <td>A5</td>\n",
              "      <td>B5</td>\n",
              "      <td>C5</td>\n",
              "      <td>D5</td>\n",
              "    </tr>\n",
              "    <tr>\n",
              "      <th>6</th>\n",
              "      <td>A6</td>\n",
              "      <td>B6</td>\n",
              "      <td>C6</td>\n",
              "      <td>D6</td>\n",
              "    </tr>\n",
              "    <tr>\n",
              "      <th>7</th>\n",
              "      <td>A7</td>\n",
              "      <td>B7</td>\n",
              "      <td>C7</td>\n",
              "      <td>D7</td>\n",
              "    </tr>\n",
              "  </tbody>\n",
              "</table>\n",
              "</div>"
            ],
            "text/plain": [
              "    A   B   C   D\n",
              "4  A4  B4  C4  D4\n",
              "5  A5  B5  C5  D5\n",
              "6  A6  B6  C6  D6\n",
              "7  A7  B7  C7  D7"
            ]
          },
          "execution_count": 2,
          "metadata": {},
          "output_type": "execute_result"
        }
      ],
      "source": [
        "df2 = pd.DataFrame(\n",
        "    {\n",
        "        \"A\": [\"A4\", \"A5\", \"A6\", \"A7\"],\n",
        "        \"B\": [\"B4\", \"B5\", \"B6\", \"B7\"],\n",
        "        \"C\": [\"C4\", \"C5\", \"C6\", \"C7\"],\n",
        "        \"D\": [\"D4\", \"D5\", \"D6\", \"D7\"],\n",
        "    },\n",
        "    index=[4, 5, 6, 7],\n",
        ")\n",
        "\n",
        "df2"
      ]
    },
    {
      "cell_type": "code",
      "execution_count": null,
      "id": "e238c3ed",
      "metadata": {
        "id": "e238c3ed",
        "outputId": "81774bcc-389e-4497-bfe5-0efe60661130"
      },
      "outputs": [
        {
          "name": "stdout",
          "output_type": "stream",
          "text": [
            "    A   B   C   D\n",
            "0  A0  B0  C0  D0\n",
            "1  A1  B1  C1  D1\n",
            "2  A2  B2  C2  D2\n",
            "3  A3  B3  C3  D3\n",
            "4  A4  B4  C4  D4\n",
            "5  A5  B5  C5  D5\n",
            "6  A6  B6  C6  D6\n",
            "7  A7  B7  C7  D7\n"
          ]
        }
      ],
      "source": [
        "frames = [df1, df2]\n",
        "\n",
        "result = pd.concat(frames, axis=0)\n",
        "print(result)"
      ]
    },
    {
      "cell_type": "markdown",
      "id": "54cb055a",
      "metadata": {
        "id": "54cb055a"
      },
      "source": [
        "When concatenating DataFrame with named axes, pandas will attempt to preserve these index/column names whenever possible. In the case where all inputs share a common name, this name will be assigned to the result. When the input names do not all agree, the result will be unnamed. The same is true for MultiIndex, but the logic is applied separately on a level-by-level basis."
      ]
    },
    {
      "cell_type": "code",
      "execution_count": null,
      "id": "1300c6d7",
      "metadata": {
        "id": "1300c6d7",
        "outputId": "0111358b-2e9e-465d-a4fa-21af0922285d"
      },
      "outputs": [
        {
          "name": "stdout",
          "output_type": "stream",
          "text": [
            "    B   D   F\n",
            "2  B2  D2  F2\n",
            "3  B3  D3  F3\n",
            "6  B6  D6  F6\n",
            "7  B7  D7  F7\n"
          ]
        },
        {
          "data": {
            "text/html": [
              "<div>\n",
              "<style scoped>\n",
              "    .dataframe tbody tr th:only-of-type {\n",
              "        vertical-align: middle;\n",
              "    }\n",
              "\n",
              "    .dataframe tbody tr th {\n",
              "        vertical-align: top;\n",
              "    }\n",
              "\n",
              "    .dataframe thead th {\n",
              "        text-align: right;\n",
              "    }\n",
              "</style>\n",
              "<table border=\"1\" class=\"dataframe\">\n",
              "  <thead>\n",
              "    <tr style=\"text-align: right;\">\n",
              "      <th></th>\n",
              "      <th>A</th>\n",
              "      <th>B</th>\n",
              "      <th>C</th>\n",
              "      <th>D</th>\n",
              "      <th>B</th>\n",
              "      <th>D</th>\n",
              "      <th>F</th>\n",
              "    </tr>\n",
              "  </thead>\n",
              "  <tbody>\n",
              "    <tr>\n",
              "      <th>0</th>\n",
              "      <td>A0</td>\n",
              "      <td>B0</td>\n",
              "      <td>C0</td>\n",
              "      <td>D0</td>\n",
              "      <td>NaN</td>\n",
              "      <td>NaN</td>\n",
              "      <td>NaN</td>\n",
              "    </tr>\n",
              "    <tr>\n",
              "      <th>1</th>\n",
              "      <td>A1</td>\n",
              "      <td>B1</td>\n",
              "      <td>C1</td>\n",
              "      <td>D1</td>\n",
              "      <td>NaN</td>\n",
              "      <td>NaN</td>\n",
              "      <td>NaN</td>\n",
              "    </tr>\n",
              "    <tr>\n",
              "      <th>2</th>\n",
              "      <td>A2</td>\n",
              "      <td>B2</td>\n",
              "      <td>C2</td>\n",
              "      <td>D2</td>\n",
              "      <td>B2</td>\n",
              "      <td>D2</td>\n",
              "      <td>F2</td>\n",
              "    </tr>\n",
              "    <tr>\n",
              "      <th>3</th>\n",
              "      <td>A3</td>\n",
              "      <td>B3</td>\n",
              "      <td>C3</td>\n",
              "      <td>D3</td>\n",
              "      <td>B3</td>\n",
              "      <td>D3</td>\n",
              "      <td>F3</td>\n",
              "    </tr>\n",
              "    <tr>\n",
              "      <th>6</th>\n",
              "      <td>NaN</td>\n",
              "      <td>NaN</td>\n",
              "      <td>NaN</td>\n",
              "      <td>NaN</td>\n",
              "      <td>B6</td>\n",
              "      <td>D6</td>\n",
              "      <td>F6</td>\n",
              "    </tr>\n",
              "    <tr>\n",
              "      <th>7</th>\n",
              "      <td>NaN</td>\n",
              "      <td>NaN</td>\n",
              "      <td>NaN</td>\n",
              "      <td>NaN</td>\n",
              "      <td>B7</td>\n",
              "      <td>D7</td>\n",
              "      <td>F7</td>\n",
              "    </tr>\n",
              "  </tbody>\n",
              "</table>\n",
              "</div>"
            ],
            "text/plain": [
              "     A    B    C    D    B    D    F\n",
              "0   A0   B0   C0   D0  NaN  NaN  NaN\n",
              "1   A1   B1   C1   D1  NaN  NaN  NaN\n",
              "2   A2   B2   C2   D2   B2   D2   F2\n",
              "3   A3   B3   C3   D3   B3   D3   F3\n",
              "6  NaN  NaN  NaN  NaN   B6   D6   F6\n",
              "7  NaN  NaN  NaN  NaN   B7   D7   F7"
            ]
          },
          "execution_count": 4,
          "metadata": {},
          "output_type": "execute_result"
        }
      ],
      "source": [
        "df4 = pd.DataFrame(\n",
        "    {\n",
        "        \"B\": [\"B2\", \"B3\", \"B6\", \"B7\"],\n",
        "        \"D\": [\"D2\", \"D3\", \"D6\", \"D7\"],\n",
        "        \"F\": [\"F2\", \"F3\", \"F6\", \"F7\"],\n",
        "    },\n",
        "    index=[2, 3, 6, 7],\n",
        ")\n",
        "\n",
        "print(df4)\n",
        "result = pd.concat([df1, df4], axis=1)\n",
        "\n",
        "result  #join='outer' takes the union of all axis values"
      ]
    },
    {
      "cell_type": "code",
      "execution_count": null,
      "id": "aaac7cd2",
      "metadata": {
        "id": "aaac7cd2",
        "outputId": "3307bad7-ef53-42e4-f9ce-ab5adb3f2d0b"
      },
      "outputs": [
        {
          "data": {
            "text/html": [
              "<div>\n",
              "<style scoped>\n",
              "    .dataframe tbody tr th:only-of-type {\n",
              "        vertical-align: middle;\n",
              "    }\n",
              "\n",
              "    .dataframe tbody tr th {\n",
              "        vertical-align: top;\n",
              "    }\n",
              "\n",
              "    .dataframe thead th {\n",
              "        text-align: right;\n",
              "    }\n",
              "</style>\n",
              "<table border=\"1\" class=\"dataframe\">\n",
              "  <thead>\n",
              "    <tr style=\"text-align: right;\">\n",
              "      <th></th>\n",
              "      <th>A</th>\n",
              "      <th>B</th>\n",
              "      <th>C</th>\n",
              "      <th>D</th>\n",
              "      <th>B</th>\n",
              "      <th>D</th>\n",
              "      <th>F</th>\n",
              "    </tr>\n",
              "  </thead>\n",
              "  <tbody>\n",
              "    <tr>\n",
              "      <th>2</th>\n",
              "      <td>A2</td>\n",
              "      <td>B2</td>\n",
              "      <td>C2</td>\n",
              "      <td>D2</td>\n",
              "      <td>B2</td>\n",
              "      <td>D2</td>\n",
              "      <td>F2</td>\n",
              "    </tr>\n",
              "    <tr>\n",
              "      <th>3</th>\n",
              "      <td>A3</td>\n",
              "      <td>B3</td>\n",
              "      <td>C3</td>\n",
              "      <td>D3</td>\n",
              "      <td>B3</td>\n",
              "      <td>D3</td>\n",
              "      <td>F3</td>\n",
              "    </tr>\n",
              "  </tbody>\n",
              "</table>\n",
              "</div>"
            ],
            "text/plain": [
              "    A   B   C   D   B   D   F\n",
              "2  A2  B2  C2  D2  B2  D2  F2\n",
              "3  A3  B3  C3  D3  B3  D3  F3"
            ]
          },
          "execution_count": 11,
          "metadata": {},
          "output_type": "execute_result"
        }
      ],
      "source": [
        "result = pd.concat([df1, df4], axis=1, join=\"inner\")\n",
        "\n",
        "result #join='inner' takes the intersection of the axis values"
      ]
    },
    {
      "cell_type": "code",
      "execution_count": null,
      "id": "f2c6b237",
      "metadata": {
        "id": "f2c6b237",
        "outputId": "3cb8127b-5640-4fba-e631-44957091e47e"
      },
      "outputs": [
        {
          "data": {
            "text/html": [
              "<div>\n",
              "<style scoped>\n",
              "    .dataframe tbody tr th:only-of-type {\n",
              "        vertical-align: middle;\n",
              "    }\n",
              "\n",
              "    .dataframe tbody tr th {\n",
              "        vertical-align: top;\n",
              "    }\n",
              "\n",
              "    .dataframe thead th {\n",
              "        text-align: right;\n",
              "    }\n",
              "</style>\n",
              "<table border=\"1\" class=\"dataframe\">\n",
              "  <thead>\n",
              "    <tr style=\"text-align: right;\">\n",
              "      <th></th>\n",
              "      <th>A</th>\n",
              "      <th>B</th>\n",
              "      <th>C</th>\n",
              "      <th>D</th>\n",
              "      <th>B</th>\n",
              "      <th>D</th>\n",
              "      <th>F</th>\n",
              "    </tr>\n",
              "  </thead>\n",
              "  <tbody>\n",
              "    <tr>\n",
              "      <th>0</th>\n",
              "      <td>A0</td>\n",
              "      <td>B0</td>\n",
              "      <td>C0</td>\n",
              "      <td>D0</td>\n",
              "      <td>NaN</td>\n",
              "      <td>NaN</td>\n",
              "      <td>NaN</td>\n",
              "    </tr>\n",
              "    <tr>\n",
              "      <th>1</th>\n",
              "      <td>A1</td>\n",
              "      <td>B1</td>\n",
              "      <td>C1</td>\n",
              "      <td>D1</td>\n",
              "      <td>NaN</td>\n",
              "      <td>NaN</td>\n",
              "      <td>NaN</td>\n",
              "    </tr>\n",
              "    <tr>\n",
              "      <th>2</th>\n",
              "      <td>A2</td>\n",
              "      <td>B2</td>\n",
              "      <td>C2</td>\n",
              "      <td>D2</td>\n",
              "      <td>B2</td>\n",
              "      <td>D2</td>\n",
              "      <td>F2</td>\n",
              "    </tr>\n",
              "    <tr>\n",
              "      <th>3</th>\n",
              "      <td>A3</td>\n",
              "      <td>B3</td>\n",
              "      <td>C3</td>\n",
              "      <td>D3</td>\n",
              "      <td>B3</td>\n",
              "      <td>D3</td>\n",
              "      <td>F3</td>\n",
              "    </tr>\n",
              "    <tr>\n",
              "      <th>6</th>\n",
              "      <td>NaN</td>\n",
              "      <td>NaN</td>\n",
              "      <td>NaN</td>\n",
              "      <td>NaN</td>\n",
              "      <td>B6</td>\n",
              "      <td>D6</td>\n",
              "      <td>F6</td>\n",
              "    </tr>\n",
              "    <tr>\n",
              "      <th>7</th>\n",
              "      <td>NaN</td>\n",
              "      <td>NaN</td>\n",
              "      <td>NaN</td>\n",
              "      <td>NaN</td>\n",
              "      <td>B7</td>\n",
              "      <td>D7</td>\n",
              "      <td>F7</td>\n",
              "    </tr>\n",
              "  </tbody>\n",
              "</table>\n",
              "</div>"
            ],
            "text/plain": [
              "     A    B    C    D    B    D    F\n",
              "0   A0   B0   C0   D0  NaN  NaN  NaN\n",
              "1   A1   B1   C1   D1  NaN  NaN  NaN\n",
              "2   A2   B2   C2   D2   B2   D2   F2\n",
              "3   A3   B3   C3   D3   B3   D3   F3\n",
              "6  NaN  NaN  NaN  NaN   B6   D6   F6\n",
              "7  NaN  NaN  NaN  NaN   B7   D7   F7"
            ]
          },
          "execution_count": 13,
          "metadata": {},
          "output_type": "execute_result"
        }
      ],
      "source": [
        "result = pd.concat([df1, df4], axis=1, join=\"outer\")\n",
        "result"
      ]
    },
    {
      "cell_type": "markdown",
      "id": "4bce73b9",
      "metadata": {
        "id": "4bce73b9"
      },
      "source": [
        "Left join, also known as Left Outer Join, returns a dataframe containing all the rows of the left dataframe. All the non-matching rows of the left dataframe contain NaN for the columns in the right dataframe"
      ]
    },
    {
      "cell_type": "code",
      "execution_count": null,
      "id": "52e1782c",
      "metadata": {
        "id": "52e1782c",
        "outputId": "f0d60ea2-c0a1-4c82-e57e-c013c2ebe733"
      },
      "outputs": [
        {
          "data": {
            "text/html": [
              "<div>\n",
              "<style scoped>\n",
              "    .dataframe tbody tr th:only-of-type {\n",
              "        vertical-align: middle;\n",
              "    }\n",
              "\n",
              "    .dataframe tbody tr th {\n",
              "        vertical-align: top;\n",
              "    }\n",
              "\n",
              "    .dataframe thead th {\n",
              "        text-align: right;\n",
              "    }\n",
              "</style>\n",
              "<table border=\"1\" class=\"dataframe\">\n",
              "  <thead>\n",
              "    <tr style=\"text-align: right;\">\n",
              "      <th></th>\n",
              "      <th>A</th>\n",
              "      <th>B</th>\n",
              "      <th>C</th>\n",
              "      <th>D</th>\n",
              "      <th>B</th>\n",
              "      <th>D</th>\n",
              "      <th>F</th>\n",
              "    </tr>\n",
              "  </thead>\n",
              "  <tbody>\n",
              "    <tr>\n",
              "      <th>0</th>\n",
              "      <td>A0</td>\n",
              "      <td>B0</td>\n",
              "      <td>C0</td>\n",
              "      <td>D0</td>\n",
              "      <td>NaN</td>\n",
              "      <td>NaN</td>\n",
              "      <td>NaN</td>\n",
              "    </tr>\n",
              "    <tr>\n",
              "      <th>1</th>\n",
              "      <td>A1</td>\n",
              "      <td>B1</td>\n",
              "      <td>C1</td>\n",
              "      <td>D1</td>\n",
              "      <td>NaN</td>\n",
              "      <td>NaN</td>\n",
              "      <td>NaN</td>\n",
              "    </tr>\n",
              "    <tr>\n",
              "      <th>2</th>\n",
              "      <td>A2</td>\n",
              "      <td>B2</td>\n",
              "      <td>C2</td>\n",
              "      <td>D2</td>\n",
              "      <td>B2</td>\n",
              "      <td>D2</td>\n",
              "      <td>F2</td>\n",
              "    </tr>\n",
              "    <tr>\n",
              "      <th>3</th>\n",
              "      <td>A3</td>\n",
              "      <td>B3</td>\n",
              "      <td>C3</td>\n",
              "      <td>D3</td>\n",
              "      <td>B3</td>\n",
              "      <td>D3</td>\n",
              "      <td>F3</td>\n",
              "    </tr>\n",
              "  </tbody>\n",
              "</table>\n",
              "</div>"
            ],
            "text/plain": [
              "    A   B   C   D    B    D    F\n",
              "0  A0  B0  C0  D0  NaN  NaN  NaN\n",
              "1  A1  B1  C1  D1  NaN  NaN  NaN\n",
              "2  A2  B2  C2  D2   B2   D2   F2\n",
              "3  A3  B3  C3  D3   B3   D3   F3"
            ]
          },
          "execution_count": 15,
          "metadata": {},
          "output_type": "execute_result"
        }
      ],
      "source": [
        "result = pd.concat([df1, df4], axis=1).reindex(df1.index)\n",
        "\n",
        "result #left join"
      ]
    },
    {
      "cell_type": "code",
      "execution_count": null,
      "id": "b66baace",
      "metadata": {
        "id": "b66baace",
        "outputId": "88a59e15-d185-4be7-d5cc-c294b355d2df"
      },
      "outputs": [
        {
          "name": "stdout",
          "output_type": "stream",
          "text": [
            "    A   B   C   D   X\n",
            "0  A0  B0  C0  D0  X0\n",
            "1  A1  B1  C1  D1  X1\n",
            "2  A2  B2  C2  D2  X2\n",
            "3  A3  B3  C3  D3  X3\n"
          ]
        }
      ],
      "source": [
        "s1 = pd.Series([\"X0\", \"X1\", \"X2\", \"X3\"], name=\"X\")\n",
        "\n",
        "result = pd.concat([df1, s1], axis=1)\n",
        "\n",
        "print(result)"
      ]
    },
    {
      "cell_type": "markdown",
      "id": "162bfb8b",
      "metadata": {
        "id": "162bfb8b"
      },
      "source": [
        "merge() performs join operations similar to relational databases like SQL. Users who are familiar with SQL but new to pandas can reference a comparison with SQL."
      ]
    },
    {
      "cell_type": "code",
      "execution_count": null,
      "id": "fd827f6b",
      "metadata": {
        "id": "fd827f6b",
        "outputId": "d16b81fd-6acd-4197-9282-78a7fe156c75"
      },
      "outputs": [
        {
          "name": "stdout",
          "output_type": "stream",
          "text": [
            "DataFrame 1:\n",
            "      Name Country Role\n",
            "0  Pankaj   India  CEO\n",
            "1  Meghna   India  CTO\n",
            "2    Lisa     USA  CTO\n",
            "DataFrame 2:\n",
            "    ID    Name\n",
            "0   1  Pankaj\n",
            "1   2  Anupam\n",
            "2   3    Amit\n",
            "Result:\n",
            "      Name Country Role  ID\n",
            "0  Pankaj   India  CEO   1\n"
          ]
        }
      ],
      "source": [
        "import pandas as pd\n",
        "\n",
        "d1 = {'Name': ['Pankaj', 'Meghna', 'Lisa'], 'Country': ['India', 'India', 'USA'], 'Role': ['CEO', 'CTO', 'CTO']}\n",
        "\n",
        "df1 = pd.DataFrame(d1)\n",
        "\n",
        "print('DataFrame 1:\\n', df1)\n",
        "\n",
        "df2 = pd.DataFrame({'ID': [1, 2, 3], 'Name': ['Pankaj', 'Anupam', 'Amit']})\n",
        "print('DataFrame 2:\\n', df2)\n",
        "\n",
        "df_merged = df1.merge(df2)\n",
        "print('Result:\\n', df_merged)"
      ]
    },
    {
      "cell_type": "code",
      "execution_count": null,
      "id": "4b5486b1",
      "metadata": {
        "id": "4b5486b1",
        "outputId": "2b73cade-78c7-4c77-f7c8-ac5bbb88631d"
      },
      "outputs": [
        {
          "name": "stdout",
          "output_type": "stream",
          "text": [
            "Result Left Join:\n",
            "      Name Country Role   ID\n",
            "0  Pankaj   India  CEO  1.0\n",
            "1  Meghna   India  CTO  NaN\n",
            "2    Lisa     USA  CTO  NaN\n",
            "Result Right Join:\n",
            "      Name Country Role  ID\n",
            "0  Pankaj   India  CEO   1\n",
            "1  Anupam     NaN  NaN   2\n",
            "2    Amit     NaN  NaN   3\n",
            "Result Outer Join:\n",
            "      Name Country Role   ID\n",
            "0  Pankaj   India  CEO  1.0\n",
            "1  Meghna   India  CTO  NaN\n",
            "2    Lisa     USA  CTO  NaN\n",
            "3  Anupam     NaN  NaN  2.0\n",
            "4    Amit     NaN  NaN  3.0\n"
          ]
        }
      ],
      "source": [
        "print('Result Left Join:\\n', df1.merge(df2, how='left'))\n",
        "print('Result Right Join:\\n', df1.merge(df2, how='right'))\n",
        "print('Result Outer Join:\\n', df1.merge(df2, how='outer'))"
      ]
    },
    {
      "cell_type": "markdown",
      "id": "f40a46d6",
      "metadata": {
        "id": "f40a46d6"
      },
      "source": [
        "merge() implements common SQL style joining operations.\n",
        "\n",
        "one-to-one: joining two DataFrame objects on their indexes which must contain unique values.\n",
        "\n",
        "many-to-one: joining a unique index to one or more columns in a different DataFrame.\n",
        "\n",
        "many-to-many : joining columns on columns."
      ]
    },
    {
      "cell_type": "code",
      "execution_count": null,
      "id": "ce893f1f",
      "metadata": {
        "id": "ce893f1f",
        "outputId": "bd6a8302-86b5-45ce-baad-5307c008a8ec"
      },
      "outputs": [
        {
          "data": {
            "text/html": [
              "<div>\n",
              "<style scoped>\n",
              "    .dataframe tbody tr th:only-of-type {\n",
              "        vertical-align: middle;\n",
              "    }\n",
              "\n",
              "    .dataframe tbody tr th {\n",
              "        vertical-align: top;\n",
              "    }\n",
              "\n",
              "    .dataframe thead th {\n",
              "        text-align: right;\n",
              "    }\n",
              "</style>\n",
              "<table border=\"1\" class=\"dataframe\">\n",
              "  <thead>\n",
              "    <tr style=\"text-align: right;\">\n",
              "      <th></th>\n",
              "      <th>key</th>\n",
              "      <th>A</th>\n",
              "      <th>B</th>\n",
              "      <th>C</th>\n",
              "      <th>D</th>\n",
              "    </tr>\n",
              "  </thead>\n",
              "  <tbody>\n",
              "    <tr>\n",
              "      <th>0</th>\n",
              "      <td>K0</td>\n",
              "      <td>A0</td>\n",
              "      <td>B0</td>\n",
              "      <td>C0</td>\n",
              "      <td>D0</td>\n",
              "    </tr>\n",
              "    <tr>\n",
              "      <th>1</th>\n",
              "      <td>K1</td>\n",
              "      <td>A1</td>\n",
              "      <td>B1</td>\n",
              "      <td>C1</td>\n",
              "      <td>D1</td>\n",
              "    </tr>\n",
              "    <tr>\n",
              "      <th>2</th>\n",
              "      <td>K2</td>\n",
              "      <td>A2</td>\n",
              "      <td>B2</td>\n",
              "      <td>C2</td>\n",
              "      <td>D2</td>\n",
              "    </tr>\n",
              "    <tr>\n",
              "      <th>3</th>\n",
              "      <td>K3</td>\n",
              "      <td>A3</td>\n",
              "      <td>B3</td>\n",
              "      <td>C3</td>\n",
              "      <td>D3</td>\n",
              "    </tr>\n",
              "  </tbody>\n",
              "</table>\n",
              "</div>"
            ],
            "text/plain": [
              "  key   A   B   C   D\n",
              "0  K0  A0  B0  C0  D0\n",
              "1  K1  A1  B1  C1  D1\n",
              "2  K2  A2  B2  C2  D2\n",
              "3  K3  A3  B3  C3  D3"
            ]
          },
          "execution_count": 20,
          "metadata": {},
          "output_type": "execute_result"
        }
      ],
      "source": [
        "left = pd.DataFrame(\n",
        "    {\n",
        "        \"key\": [\"K0\", \"K1\", \"K2\", \"K3\"],\n",
        "        \"A\": [\"A0\", \"A1\", \"A2\", \"A3\"],\n",
        "        \"B\": [\"B0\", \"B1\", \"B2\", \"B3\"],\n",
        "    }\n",
        ")\n",
        "\n",
        "\n",
        "right = pd.DataFrame(\n",
        "    {\n",
        "        \"key\": [\"K0\", \"K1\", \"K2\", \"K3\"],\n",
        "        \"C\": [\"C0\", \"C1\", \"C2\", \"C3\"],\n",
        "        \"D\": [\"D0\", \"D1\", \"D2\", \"D3\"],\n",
        "    }\n",
        ")\n",
        "\n",
        "\n",
        "result = pd.merge(left, right, on=\"key\")\n",
        "\n",
        "result"
      ]
    },
    {
      "cell_type": "code",
      "execution_count": null,
      "id": "8853ed06",
      "metadata": {
        "id": "8853ed06",
        "outputId": "ca3a8e6d-b776-4894-d75f-fe0112638f20"
      },
      "outputs": [
        {
          "name": "stdout",
          "output_type": "stream",
          "text": [
            "  key1 key2   A   B\n",
            "0   K0   K0  A0  B0\n",
            "1   K0   K1  A1  B1\n",
            "2   K1   K0  A2  B2\n",
            "3   K2   K1  A3  B3\n",
            "  key1 key2   C   D\n",
            "0   K0   K0  C0  D0\n",
            "1   K1   K0  C1  D1\n",
            "2   K1   K0  C2  D2\n",
            "3   K2   K0  C3  D3\n"
          ]
        },
        {
          "data": {
            "text/html": [
              "<div>\n",
              "<style scoped>\n",
              "    .dataframe tbody tr th:only-of-type {\n",
              "        vertical-align: middle;\n",
              "    }\n",
              "\n",
              "    .dataframe tbody tr th {\n",
              "        vertical-align: top;\n",
              "    }\n",
              "\n",
              "    .dataframe thead th {\n",
              "        text-align: right;\n",
              "    }\n",
              "</style>\n",
              "<table border=\"1\" class=\"dataframe\">\n",
              "  <thead>\n",
              "    <tr style=\"text-align: right;\">\n",
              "      <th></th>\n",
              "      <th>key1</th>\n",
              "      <th>key2</th>\n",
              "      <th>A</th>\n",
              "      <th>B</th>\n",
              "      <th>C</th>\n",
              "      <th>D</th>\n",
              "    </tr>\n",
              "  </thead>\n",
              "  <tbody>\n",
              "    <tr>\n",
              "      <th>0</th>\n",
              "      <td>K0</td>\n",
              "      <td>K0</td>\n",
              "      <td>A0</td>\n",
              "      <td>B0</td>\n",
              "      <td>C0</td>\n",
              "      <td>D0</td>\n",
              "    </tr>\n",
              "    <tr>\n",
              "      <th>1</th>\n",
              "      <td>K0</td>\n",
              "      <td>K1</td>\n",
              "      <td>A1</td>\n",
              "      <td>B1</td>\n",
              "      <td>NaN</td>\n",
              "      <td>NaN</td>\n",
              "    </tr>\n",
              "    <tr>\n",
              "      <th>2</th>\n",
              "      <td>K1</td>\n",
              "      <td>K0</td>\n",
              "      <td>A2</td>\n",
              "      <td>B2</td>\n",
              "      <td>C1</td>\n",
              "      <td>D1</td>\n",
              "    </tr>\n",
              "    <tr>\n",
              "      <th>3</th>\n",
              "      <td>K1</td>\n",
              "      <td>K0</td>\n",
              "      <td>A2</td>\n",
              "      <td>B2</td>\n",
              "      <td>C2</td>\n",
              "      <td>D2</td>\n",
              "    </tr>\n",
              "    <tr>\n",
              "      <th>4</th>\n",
              "      <td>K2</td>\n",
              "      <td>K1</td>\n",
              "      <td>A3</td>\n",
              "      <td>B3</td>\n",
              "      <td>NaN</td>\n",
              "      <td>NaN</td>\n",
              "    </tr>\n",
              "  </tbody>\n",
              "</table>\n",
              "</div>"
            ],
            "text/plain": [
              "  key1 key2   A   B    C    D\n",
              "0   K0   K0  A0  B0   C0   D0\n",
              "1   K0   K1  A1  B1  NaN  NaN\n",
              "2   K1   K0  A2  B2   C1   D1\n",
              "3   K1   K0  A2  B2   C2   D2\n",
              "4   K2   K1  A3  B3  NaN  NaN"
            ]
          },
          "execution_count": 23,
          "metadata": {},
          "output_type": "execute_result"
        }
      ],
      "source": [
        "left = pd.DataFrame(\n",
        "   {\n",
        "      \"key1\": [\"K0\", \"K0\", \"K1\", \"K2\"],\n",
        "      \"key2\": [\"K0\", \"K1\", \"K0\", \"K1\"],\n",
        "      \"A\": [\"A0\", \"A1\", \"A2\", \"A3\"],\n",
        "      \"B\": [\"B0\", \"B1\", \"B2\", \"B3\"],\n",
        "   }\n",
        ")\n",
        "\n",
        "\n",
        "right = pd.DataFrame(\n",
        "   {\n",
        "      \"key1\": [\"K0\", \"K1\", \"K1\", \"K2\"],\n",
        "      \"key2\": [\"K0\", \"K0\", \"K0\", \"K0\"],\n",
        "      \"C\": [\"C0\", \"C1\", \"C2\", \"C3\"],\n",
        "      \"D\": [\"D0\", \"D1\", \"D2\", \"D3\"],\n",
        "   }\n",
        ")\n",
        "\n",
        "print(left)\n",
        "print(right)\n",
        "\n",
        "result = pd.merge(left, right, how=\"left\", on=[\"key1\", \"key2\"])\n",
        "\n",
        "result\n",
        "\n"
      ]
    },
    {
      "cell_type": "markdown",
      "id": "f2fb130e",
      "metadata": {
        "id": "f2fb130e"
      },
      "source": [
        "A left join, or left merge, keeps every row from the left dataframe. Result from left-join or left-merge of two dataframes in Pandas. Rows in the left dataframe that have no corresponding join value in the right dataframe are left with NaN values.\n",
        "left: use only keys from left frame, similar to a SQL left outer join; preserve key order."
      ]
    },
    {
      "cell_type": "code",
      "execution_count": null,
      "id": "073744fd",
      "metadata": {
        "id": "073744fd",
        "outputId": "a89ddac2-fc23-4368-e3b4-43abc6827eb1"
      },
      "outputs": [
        {
          "data": {
            "text/html": [
              "<div>\n",
              "<style scoped>\n",
              "    .dataframe tbody tr th:only-of-type {\n",
              "        vertical-align: middle;\n",
              "    }\n",
              "\n",
              "    .dataframe tbody tr th {\n",
              "        vertical-align: top;\n",
              "    }\n",
              "\n",
              "    .dataframe thead th {\n",
              "        text-align: right;\n",
              "    }\n",
              "</style>\n",
              "<table border=\"1\" class=\"dataframe\">\n",
              "  <thead>\n",
              "    <tr style=\"text-align: right;\">\n",
              "      <th></th>\n",
              "      <th>key1</th>\n",
              "      <th>key2</th>\n",
              "      <th>A</th>\n",
              "      <th>B</th>\n",
              "      <th>C</th>\n",
              "      <th>D</th>\n",
              "    </tr>\n",
              "  </thead>\n",
              "  <tbody>\n",
              "    <tr>\n",
              "      <th>0</th>\n",
              "      <td>K0</td>\n",
              "      <td>K0</td>\n",
              "      <td>A0</td>\n",
              "      <td>B0</td>\n",
              "      <td>C0</td>\n",
              "      <td>D0</td>\n",
              "    </tr>\n",
              "    <tr>\n",
              "      <th>1</th>\n",
              "      <td>K1</td>\n",
              "      <td>K0</td>\n",
              "      <td>A2</td>\n",
              "      <td>B2</td>\n",
              "      <td>C1</td>\n",
              "      <td>D1</td>\n",
              "    </tr>\n",
              "    <tr>\n",
              "      <th>2</th>\n",
              "      <td>K1</td>\n",
              "      <td>K0</td>\n",
              "      <td>A2</td>\n",
              "      <td>B2</td>\n",
              "      <td>C2</td>\n",
              "      <td>D2</td>\n",
              "    </tr>\n",
              "    <tr>\n",
              "      <th>3</th>\n",
              "      <td>K2</td>\n",
              "      <td>K0</td>\n",
              "      <td>NaN</td>\n",
              "      <td>NaN</td>\n",
              "      <td>C3</td>\n",
              "      <td>D3</td>\n",
              "    </tr>\n",
              "  </tbody>\n",
              "</table>\n",
              "</div>"
            ],
            "text/plain": [
              "  key1 key2    A    B   C   D\n",
              "0   K0   K0   A0   B0  C0  D0\n",
              "1   K1   K0   A2   B2  C1  D1\n",
              "2   K1   K0   A2   B2  C2  D2\n",
              "3   K2   K0  NaN  NaN  C3  D3"
            ]
          },
          "execution_count": 22,
          "metadata": {},
          "output_type": "execute_result"
        }
      ],
      "source": [
        "result = pd.merge(left, right, how=\"right\", on=[\"key1\", \"key2\"])\n",
        "\n",
        "result"
      ]
    },
    {
      "cell_type": "code",
      "execution_count": null,
      "id": "07824fc4",
      "metadata": {
        "id": "07824fc4",
        "outputId": "ecb0bfcf-5823-4cf2-dc5e-944f56ce02d2"
      },
      "outputs": [
        {
          "name": "stdout",
          "output_type": "stream",
          "text": [
            "    name  age  qualified\n",
            "0  Sally   50       True\n",
            "1   Mary   40      False\n",
            "2   John   30      False\n"
          ]
        }
      ],
      "source": [
        "import pandas as pd\n",
        "\n",
        "data1 = {\n",
        "  \"name\": [\"Sally\", \"Mary\", \"John\"],\n",
        "  \"age\": [50, 40, 30]\n",
        "}\n",
        "\n",
        "data2 = {\n",
        "  \"qualified\": [True, False, False]\n",
        "}\n",
        "\n",
        "df1 = pd.DataFrame(data1)\n",
        "df2 = pd.DataFrame(data2)\n",
        "\n",
        "newdf = df1.join(df2)\n",
        "print(newdf)"
      ]
    },
    {
      "cell_type": "markdown",
      "id": "de1fcbbe",
      "metadata": {
        "id": "de1fcbbe"
      },
      "source": [
        "merge() for combining data on common columns or indices. . join() for combining data on a key column or an index. concat() for combining DataFrames across rows or columns."
      ]
    },
    {
      "cell_type": "markdown",
      "id": "b5c2ed82",
      "metadata": {
        "id": "b5c2ed82"
      },
      "source": [
        "# Summarization:\n",
        "Data Summarization (Groupby, Melt, Agg, Pivot functions)"
      ]
    },
    {
      "cell_type": "code",
      "execution_count": null,
      "id": "11507ec5",
      "metadata": {
        "id": "11507ec5",
        "outputId": "50428346-4b3c-4c01-d6c9-dc56eaa3f5c0"
      },
      "outputs": [
        {
          "data": {
            "text/html": [
              "<div>\n",
              "<style scoped>\n",
              "    .dataframe tbody tr th:only-of-type {\n",
              "        vertical-align: middle;\n",
              "    }\n",
              "\n",
              "    .dataframe tbody tr th {\n",
              "        vertical-align: top;\n",
              "    }\n",
              "\n",
              "    .dataframe thead th {\n",
              "        text-align: right;\n",
              "    }\n",
              "</style>\n",
              "<table border=\"1\" class=\"dataframe\">\n",
              "  <thead>\n",
              "    <tr style=\"text-align: right;\">\n",
              "      <th></th>\n",
              "      <th>Max Speed</th>\n",
              "    </tr>\n",
              "    <tr>\n",
              "      <th>Animal</th>\n",
              "      <th></th>\n",
              "    </tr>\n",
              "  </thead>\n",
              "  <tbody>\n",
              "    <tr>\n",
              "      <th>Falcon</th>\n",
              "      <td>375.0</td>\n",
              "    </tr>\n",
              "    <tr>\n",
              "      <th>Parrot</th>\n",
              "      <td>25.0</td>\n",
              "    </tr>\n",
              "  </tbody>\n",
              "</table>\n",
              "</div>"
            ],
            "text/plain": [
              "        Max Speed\n",
              "Animal           \n",
              "Falcon      375.0\n",
              "Parrot       25.0"
            ]
          },
          "execution_count": 6,
          "metadata": {},
          "output_type": "execute_result"
        }
      ],
      "source": [
        "df = pd.DataFrame({'Animal': ['Falcon', 'Falcon',\n",
        "                              'Parrot', 'Parrot'],\n",
        "                   'Max Speed': [380., 370., 24., 26.]})\n",
        "df\n",
        "\n",
        "#df.groupby(['Animal']).mean()\n"
      ]
    },
    {
      "cell_type": "code",
      "execution_count": null,
      "id": "f4129c47",
      "metadata": {
        "id": "f4129c47",
        "outputId": "2f8e5dc2-2514-4a37-fd43-32731149f566"
      },
      "outputs": [
        {
          "data": {
            "text/html": [
              "<div>\n",
              "<style scoped>\n",
              "    .dataframe tbody tr th:only-of-type {\n",
              "        vertical-align: middle;\n",
              "    }\n",
              "\n",
              "    .dataframe tbody tr th {\n",
              "        vertical-align: top;\n",
              "    }\n",
              "\n",
              "    .dataframe thead th {\n",
              "        text-align: right;\n",
              "    }\n",
              "</style>\n",
              "<table border=\"1\" class=\"dataframe\">\n",
              "  <thead>\n",
              "    <tr style=\"text-align: right;\">\n",
              "      <th></th>\n",
              "      <th>Max Speed</th>\n",
              "    </tr>\n",
              "    <tr>\n",
              "      <th>Animal</th>\n",
              "      <th></th>\n",
              "    </tr>\n",
              "  </thead>\n",
              "  <tbody>\n",
              "    <tr>\n",
              "      <th>Falcon</th>\n",
              "      <td>375.0</td>\n",
              "    </tr>\n",
              "    <tr>\n",
              "      <th>Parrot</th>\n",
              "      <td>25.0</td>\n",
              "    </tr>\n",
              "  </tbody>\n",
              "</table>\n",
              "</div>"
            ],
            "text/plain": [
              "        Max Speed\n",
              "Animal           \n",
              "Falcon      375.0\n",
              "Parrot       25.0"
            ]
          },
          "execution_count": 9,
          "metadata": {},
          "output_type": "execute_result"
        }
      ],
      "source": [
        "df.groupby(['Animal']).mean()\n"
      ]
    },
    {
      "cell_type": "code",
      "execution_count": null,
      "id": "687c82fc",
      "metadata": {
        "id": "687c82fc"
      },
      "outputs": [],
      "source": [
        "arrays = [['Falcon', 'Falcon', 'Parrot', 'Parrot'],\n",
        "          ['Captive', 'Wild', 'Captive', 'Wild']]\n",
        "index = pd.MultiIndex.from_arrays(arrays, names=('Animal', 'Type'))\n",
        "df = pd.DataFrame({'Max Speed': [390., 350., 30., 20.]},\n",
        "                  index=index)"
      ]
    },
    {
      "cell_type": "code",
      "execution_count": null,
      "id": "c09be4ea",
      "metadata": {
        "id": "c09be4ea",
        "outputId": "4e830377-fcd3-4172-dbee-c5b3882aa97f"
      },
      "outputs": [
        {
          "data": {
            "text/html": [
              "<div>\n",
              "<style scoped>\n",
              "    .dataframe tbody tr th:only-of-type {\n",
              "        vertical-align: middle;\n",
              "    }\n",
              "\n",
              "    .dataframe tbody tr th {\n",
              "        vertical-align: top;\n",
              "    }\n",
              "\n",
              "    .dataframe thead th {\n",
              "        text-align: right;\n",
              "    }\n",
              "</style>\n",
              "<table border=\"1\" class=\"dataframe\">\n",
              "  <thead>\n",
              "    <tr style=\"text-align: right;\">\n",
              "      <th></th>\n",
              "      <th></th>\n",
              "      <th>Max Speed</th>\n",
              "    </tr>\n",
              "    <tr>\n",
              "      <th>Animal</th>\n",
              "      <th>Type</th>\n",
              "      <th></th>\n",
              "    </tr>\n",
              "  </thead>\n",
              "  <tbody>\n",
              "    <tr>\n",
              "      <th rowspan=\"2\" valign=\"top\">Falcon</th>\n",
              "      <th>Captive</th>\n",
              "      <td>390.0</td>\n",
              "    </tr>\n",
              "    <tr>\n",
              "      <th>Wild</th>\n",
              "      <td>350.0</td>\n",
              "    </tr>\n",
              "    <tr>\n",
              "      <th rowspan=\"2\" valign=\"top\">Parrot</th>\n",
              "      <th>Captive</th>\n",
              "      <td>30.0</td>\n",
              "    </tr>\n",
              "    <tr>\n",
              "      <th>Wild</th>\n",
              "      <td>20.0</td>\n",
              "    </tr>\n",
              "  </tbody>\n",
              "</table>\n",
              "</div>"
            ],
            "text/plain": [
              "                Max Speed\n",
              "Animal Type              \n",
              "Falcon Captive      390.0\n",
              "       Wild         350.0\n",
              "Parrot Captive       30.0\n",
              "       Wild          20.0"
            ]
          },
          "execution_count": 11,
          "metadata": {},
          "output_type": "execute_result"
        }
      ],
      "source": [
        "df"
      ]
    },
    {
      "cell_type": "code",
      "execution_count": null,
      "id": "85542856",
      "metadata": {
        "id": "85542856",
        "outputId": "df87b74f-be49-4cfc-a9ce-0ea4cd243900"
      },
      "outputs": [
        {
          "data": {
            "text/html": [
              "<div>\n",
              "<style scoped>\n",
              "    .dataframe tbody tr th:only-of-type {\n",
              "        vertical-align: middle;\n",
              "    }\n",
              "\n",
              "    .dataframe tbody tr th {\n",
              "        vertical-align: top;\n",
              "    }\n",
              "\n",
              "    .dataframe thead th {\n",
              "        text-align: right;\n",
              "    }\n",
              "</style>\n",
              "<table border=\"1\" class=\"dataframe\">\n",
              "  <thead>\n",
              "    <tr style=\"text-align: right;\">\n",
              "      <th></th>\n",
              "      <th>Max Speed</th>\n",
              "    </tr>\n",
              "    <tr>\n",
              "      <th>Animal</th>\n",
              "      <th></th>\n",
              "    </tr>\n",
              "  </thead>\n",
              "  <tbody>\n",
              "    <tr>\n",
              "      <th>Falcon</th>\n",
              "      <td>370.0</td>\n",
              "    </tr>\n",
              "    <tr>\n",
              "      <th>Parrot</th>\n",
              "      <td>25.0</td>\n",
              "    </tr>\n",
              "  </tbody>\n",
              "</table>\n",
              "</div>"
            ],
            "text/plain": [
              "        Max Speed\n",
              "Animal           \n",
              "Falcon      370.0\n",
              "Parrot       25.0"
            ]
          },
          "execution_count": 12,
          "metadata": {},
          "output_type": "execute_result"
        }
      ],
      "source": [
        "df.groupby(level=0).mean()"
      ]
    },
    {
      "cell_type": "code",
      "execution_count": null,
      "id": "46dc0f8c",
      "metadata": {
        "id": "46dc0f8c",
        "outputId": "2c730734-50f9-4023-ed07-bb6f59b35cfd"
      },
      "outputs": [
        {
          "data": {
            "text/html": [
              "<div>\n",
              "<style scoped>\n",
              "    .dataframe tbody tr th:only-of-type {\n",
              "        vertical-align: middle;\n",
              "    }\n",
              "\n",
              "    .dataframe tbody tr th {\n",
              "        vertical-align: top;\n",
              "    }\n",
              "\n",
              "    .dataframe thead th {\n",
              "        text-align: right;\n",
              "    }\n",
              "</style>\n",
              "<table border=\"1\" class=\"dataframe\">\n",
              "  <thead>\n",
              "    <tr style=\"text-align: right;\">\n",
              "      <th></th>\n",
              "      <th>Max Speed</th>\n",
              "    </tr>\n",
              "    <tr>\n",
              "      <th>Type</th>\n",
              "      <th></th>\n",
              "    </tr>\n",
              "  </thead>\n",
              "  <tbody>\n",
              "    <tr>\n",
              "      <th>Captive</th>\n",
              "      <td>210.0</td>\n",
              "    </tr>\n",
              "    <tr>\n",
              "      <th>Wild</th>\n",
              "      <td>185.0</td>\n",
              "    </tr>\n",
              "  </tbody>\n",
              "</table>\n",
              "</div>"
            ],
            "text/plain": [
              "         Max Speed\n",
              "Type              \n",
              "Captive      210.0\n",
              "Wild         185.0"
            ]
          },
          "execution_count": 13,
          "metadata": {},
          "output_type": "execute_result"
        }
      ],
      "source": [
        "df.groupby(level=1).mean()"
      ]
    },
    {
      "cell_type": "code",
      "execution_count": null,
      "id": "94d6afda",
      "metadata": {
        "id": "94d6afda",
        "outputId": "a6e9989f-b496-4287-c944-668377793167"
      },
      "outputs": [
        {
          "name": "stdout",
          "output_type": "stream",
          "text": [
            "[[1, 2, 3], [1, None, 4], [2, 1, 3], [1, 2, 2]]\n",
            "   a    b  c\n",
            "0  1  2.0  3\n",
            "1  1  NaN  4\n",
            "2  2  1.0  3\n",
            "3  1  2.0  2\n"
          ]
        }
      ],
      "source": [
        "l = [[1, 2, 3], [1, None, 4], [2, 1, 3], [1, 2, 2]]\n",
        "df = pd.DataFrame(l, columns=[\"a\", \"b\", \"c\"])\n",
        "print(l)\n",
        "print(df)"
      ]
    },
    {
      "cell_type": "code",
      "execution_count": null,
      "id": "25d62c0f",
      "metadata": {
        "id": "25d62c0f",
        "outputId": "8ea114b9-0809-444c-ad5c-4f2212301dfb"
      },
      "outputs": [
        {
          "data": {
            "text/html": [
              "<div>\n",
              "<style scoped>\n",
              "    .dataframe tbody tr th:only-of-type {\n",
              "        vertical-align: middle;\n",
              "    }\n",
              "\n",
              "    .dataframe tbody tr th {\n",
              "        vertical-align: top;\n",
              "    }\n",
              "\n",
              "    .dataframe thead th {\n",
              "        text-align: right;\n",
              "    }\n",
              "</style>\n",
              "<table border=\"1\" class=\"dataframe\">\n",
              "  <thead>\n",
              "    <tr style=\"text-align: right;\">\n",
              "      <th></th>\n",
              "      <th>a</th>\n",
              "      <th>c</th>\n",
              "    </tr>\n",
              "    <tr>\n",
              "      <th>b</th>\n",
              "      <th></th>\n",
              "      <th></th>\n",
              "    </tr>\n",
              "  </thead>\n",
              "  <tbody>\n",
              "    <tr>\n",
              "      <th>1.0</th>\n",
              "      <td>2</td>\n",
              "      <td>3</td>\n",
              "    </tr>\n",
              "    <tr>\n",
              "      <th>2.0</th>\n",
              "      <td>2</td>\n",
              "      <td>5</td>\n",
              "    </tr>\n",
              "  </tbody>\n",
              "</table>\n",
              "</div>"
            ],
            "text/plain": [
              "     a  c\n",
              "b        \n",
              "1.0  2  3\n",
              "2.0  2  5"
            ]
          },
          "execution_count": 15,
          "metadata": {},
          "output_type": "execute_result"
        }
      ],
      "source": [
        "df.groupby(by=[\"b\"]).sum()"
      ]
    },
    {
      "cell_type": "code",
      "execution_count": null,
      "id": "40d66d8f",
      "metadata": {
        "id": "40d66d8f"
      },
      "outputs": [],
      "source": [
        "l = [[\"a\", 12, 12], [None, 12.3, 33.], [\"b\", 12.3, 123], [\"a\", 1, 1]]\n",
        "df = pd.DataFrame(l, columns=[\"a\", \"b\", \"c\"])"
      ]
    },
    {
      "cell_type": "code",
      "execution_count": null,
      "id": "8cf39973",
      "metadata": {
        "id": "8cf39973",
        "outputId": "e9a3b907-a572-443d-fd81-c69adb7d9e2e"
      },
      "outputs": [
        {
          "data": {
            "text/html": [
              "<div>\n",
              "<style scoped>\n",
              "    .dataframe tbody tr th:only-of-type {\n",
              "        vertical-align: middle;\n",
              "    }\n",
              "\n",
              "    .dataframe tbody tr th {\n",
              "        vertical-align: top;\n",
              "    }\n",
              "\n",
              "    .dataframe thead th {\n",
              "        text-align: right;\n",
              "    }\n",
              "</style>\n",
              "<table border=\"1\" class=\"dataframe\">\n",
              "  <thead>\n",
              "    <tr style=\"text-align: right;\">\n",
              "      <th></th>\n",
              "      <th>b</th>\n",
              "      <th>c</th>\n",
              "    </tr>\n",
              "    <tr>\n",
              "      <th>a</th>\n",
              "      <th></th>\n",
              "      <th></th>\n",
              "    </tr>\n",
              "  </thead>\n",
              "  <tbody>\n",
              "    <tr>\n",
              "      <th>a</th>\n",
              "      <td>13.0</td>\n",
              "      <td>13.0</td>\n",
              "    </tr>\n",
              "    <tr>\n",
              "      <th>b</th>\n",
              "      <td>12.3</td>\n",
              "      <td>123.0</td>\n",
              "    </tr>\n",
              "  </tbody>\n",
              "</table>\n",
              "</div>"
            ],
            "text/plain": [
              "      b      c\n",
              "a             \n",
              "a  13.0   13.0\n",
              "b  12.3  123.0"
            ]
          },
          "execution_count": 19,
          "metadata": {},
          "output_type": "execute_result"
        }
      ],
      "source": [
        "df.groupby(by=\"a\").sum()"
      ]
    },
    {
      "cell_type": "markdown",
      "id": "7d6bfeaa",
      "metadata": {
        "id": "7d6bfeaa"
      },
      "source": [
        "#Unpivot a DataFrame from wide to long format, optionally leaving identifiers set.\n",
        "\n",
        "This function is useful to massage a DataFrame into a format where one or more columns are identifier variables (id_vars), while all other columns, considered measured variables (value_vars), are “unpivoted” to the row axis, leaving just two non-identifier columns, ‘variable’ and ‘value’."
      ]
    },
    {
      "cell_type": "code",
      "execution_count": null,
      "id": "2819e478",
      "metadata": {
        "id": "2819e478",
        "outputId": "0f9991c8-bd0e-4e73-fe4c-ebe96b8240f6"
      },
      "outputs": [
        {
          "data": {
            "text/html": [
              "<div>\n",
              "<style scoped>\n",
              "    .dataframe tbody tr th:only-of-type {\n",
              "        vertical-align: middle;\n",
              "    }\n",
              "\n",
              "    .dataframe tbody tr th {\n",
              "        vertical-align: top;\n",
              "    }\n",
              "\n",
              "    .dataframe thead th {\n",
              "        text-align: right;\n",
              "    }\n",
              "</style>\n",
              "<table border=\"1\" class=\"dataframe\">\n",
              "  <thead>\n",
              "    <tr style=\"text-align: right;\">\n",
              "      <th></th>\n",
              "      <th>A</th>\n",
              "      <th>B</th>\n",
              "      <th>C</th>\n",
              "    </tr>\n",
              "  </thead>\n",
              "  <tbody>\n",
              "    <tr>\n",
              "      <th>0</th>\n",
              "      <td>a</td>\n",
              "      <td>1</td>\n",
              "      <td>2</td>\n",
              "    </tr>\n",
              "    <tr>\n",
              "      <th>1</th>\n",
              "      <td>b</td>\n",
              "      <td>3</td>\n",
              "      <td>4</td>\n",
              "    </tr>\n",
              "    <tr>\n",
              "      <th>2</th>\n",
              "      <td>c</td>\n",
              "      <td>5</td>\n",
              "      <td>6</td>\n",
              "    </tr>\n",
              "  </tbody>\n",
              "</table>\n",
              "</div>"
            ],
            "text/plain": [
              "   A  B  C\n",
              "0  a  1  2\n",
              "1  b  3  4\n",
              "2  c  5  6"
            ]
          },
          "execution_count": 20,
          "metadata": {},
          "output_type": "execute_result"
        }
      ],
      "source": [
        "df = pd.DataFrame({'A': {0: 'a', 1: 'b', 2: 'c'},\n",
        "                   'B': {0: 1, 1: 3, 2: 5},\n",
        "                   'C': {0: 2, 1: 4, 2: 6}})\n",
        "df"
      ]
    },
    {
      "cell_type": "code",
      "execution_count": null,
      "id": "7ae46770",
      "metadata": {
        "id": "7ae46770",
        "outputId": "23efbf9c-ef02-415c-930a-b57db0a9c82b"
      },
      "outputs": [
        {
          "data": {
            "text/html": [
              "<div>\n",
              "<style scoped>\n",
              "    .dataframe tbody tr th:only-of-type {\n",
              "        vertical-align: middle;\n",
              "    }\n",
              "\n",
              "    .dataframe tbody tr th {\n",
              "        vertical-align: top;\n",
              "    }\n",
              "\n",
              "    .dataframe thead th {\n",
              "        text-align: right;\n",
              "    }\n",
              "</style>\n",
              "<table border=\"1\" class=\"dataframe\">\n",
              "  <thead>\n",
              "    <tr style=\"text-align: right;\">\n",
              "      <th></th>\n",
              "      <th>A</th>\n",
              "      <th>variable</th>\n",
              "      <th>value</th>\n",
              "    </tr>\n",
              "  </thead>\n",
              "  <tbody>\n",
              "    <tr>\n",
              "      <th>0</th>\n",
              "      <td>a</td>\n",
              "      <td>B</td>\n",
              "      <td>1</td>\n",
              "    </tr>\n",
              "    <tr>\n",
              "      <th>1</th>\n",
              "      <td>b</td>\n",
              "      <td>B</td>\n",
              "      <td>3</td>\n",
              "    </tr>\n",
              "    <tr>\n",
              "      <th>2</th>\n",
              "      <td>c</td>\n",
              "      <td>B</td>\n",
              "      <td>5</td>\n",
              "    </tr>\n",
              "  </tbody>\n",
              "</table>\n",
              "</div>"
            ],
            "text/plain": [
              "   A variable  value\n",
              "0  a        B      1\n",
              "1  b        B      3\n",
              "2  c        B      5"
            ]
          },
          "execution_count": 21,
          "metadata": {},
          "output_type": "execute_result"
        }
      ],
      "source": [
        "pd.melt(df, id_vars=['A'], value_vars=['B'])"
      ]
    },
    {
      "cell_type": "code",
      "execution_count": null,
      "id": "0f42759f",
      "metadata": {
        "id": "0f42759f",
        "outputId": "bcc1f3e2-ae5f-458c-82f6-8a440172cb16"
      },
      "outputs": [
        {
          "data": {
            "text/html": [
              "<div>\n",
              "<style scoped>\n",
              "    .dataframe tbody tr th:only-of-type {\n",
              "        vertical-align: middle;\n",
              "    }\n",
              "\n",
              "    .dataframe tbody tr th {\n",
              "        vertical-align: top;\n",
              "    }\n",
              "\n",
              "    .dataframe thead th {\n",
              "        text-align: right;\n",
              "    }\n",
              "</style>\n",
              "<table border=\"1\" class=\"dataframe\">\n",
              "  <thead>\n",
              "    <tr style=\"text-align: right;\">\n",
              "      <th></th>\n",
              "      <th>A</th>\n",
              "      <th>variable</th>\n",
              "      <th>value</th>\n",
              "    </tr>\n",
              "  </thead>\n",
              "  <tbody>\n",
              "    <tr>\n",
              "      <th>0</th>\n",
              "      <td>a</td>\n",
              "      <td>C</td>\n",
              "      <td>2</td>\n",
              "    </tr>\n",
              "    <tr>\n",
              "      <th>1</th>\n",
              "      <td>b</td>\n",
              "      <td>C</td>\n",
              "      <td>4</td>\n",
              "    </tr>\n",
              "    <tr>\n",
              "      <th>2</th>\n",
              "      <td>c</td>\n",
              "      <td>C</td>\n",
              "      <td>6</td>\n",
              "    </tr>\n",
              "  </tbody>\n",
              "</table>\n",
              "</div>"
            ],
            "text/plain": [
              "   A variable  value\n",
              "0  a        C      2\n",
              "1  b        C      4\n",
              "2  c        C      6"
            ]
          },
          "execution_count": 22,
          "metadata": {},
          "output_type": "execute_result"
        }
      ],
      "source": [
        "pd.melt(df, id_vars=['A'], value_vars=['C'])"
      ]
    },
    {
      "cell_type": "code",
      "execution_count": null,
      "id": "ab48f8f3",
      "metadata": {
        "id": "ab48f8f3",
        "outputId": "efa765c6-43b4-46f8-bec3-65c02f2c2e0f"
      },
      "outputs": [
        {
          "data": {
            "text/html": [
              "<div>\n",
              "<style scoped>\n",
              "    .dataframe tbody tr th:only-of-type {\n",
              "        vertical-align: middle;\n",
              "    }\n",
              "\n",
              "    .dataframe tbody tr th {\n",
              "        vertical-align: top;\n",
              "    }\n",
              "\n",
              "    .dataframe thead th {\n",
              "        text-align: right;\n",
              "    }\n",
              "</style>\n",
              "<table border=\"1\" class=\"dataframe\">\n",
              "  <thead>\n",
              "    <tr style=\"text-align: right;\">\n",
              "      <th></th>\n",
              "      <th>A</th>\n",
              "      <th>myVarname</th>\n",
              "      <th>myValname</th>\n",
              "    </tr>\n",
              "  </thead>\n",
              "  <tbody>\n",
              "    <tr>\n",
              "      <th>0</th>\n",
              "      <td>a</td>\n",
              "      <td>B</td>\n",
              "      <td>1</td>\n",
              "    </tr>\n",
              "    <tr>\n",
              "      <th>1</th>\n",
              "      <td>b</td>\n",
              "      <td>B</td>\n",
              "      <td>3</td>\n",
              "    </tr>\n",
              "    <tr>\n",
              "      <th>2</th>\n",
              "      <td>c</td>\n",
              "      <td>B</td>\n",
              "      <td>5</td>\n",
              "    </tr>\n",
              "  </tbody>\n",
              "</table>\n",
              "</div>"
            ],
            "text/plain": [
              "   A myVarname  myValname\n",
              "0  a         B          1\n",
              "1  b         B          3\n",
              "2  c         B          5"
            ]
          },
          "execution_count": 23,
          "metadata": {},
          "output_type": "execute_result"
        }
      ],
      "source": [
        "pd.melt(df, id_vars=['A'], value_vars=['B'],\n",
        "        var_name='myVarname', value_name='myValname')\n"
      ]
    },
    {
      "cell_type": "code",
      "execution_count": null,
      "id": "72a2ba88",
      "metadata": {
        "id": "72a2ba88",
        "outputId": "ccd33197-c7c8-4212-92f2-e0b990f9b9de"
      },
      "outputs": [
        {
          "data": {
            "text/html": [
              "<div>\n",
              "<style scoped>\n",
              "    .dataframe tbody tr th:only-of-type {\n",
              "        vertical-align: middle;\n",
              "    }\n",
              "\n",
              "    .dataframe tbody tr th {\n",
              "        vertical-align: top;\n",
              "    }\n",
              "\n",
              "    .dataframe thead th {\n",
              "        text-align: right;\n",
              "    }\n",
              "</style>\n",
              "<table border=\"1\" class=\"dataframe\">\n",
              "  <thead>\n",
              "    <tr style=\"text-align: right;\">\n",
              "      <th></th>\n",
              "      <th>A</th>\n",
              "      <th>variable</th>\n",
              "      <th>value</th>\n",
              "    </tr>\n",
              "  </thead>\n",
              "  <tbody>\n",
              "    <tr>\n",
              "      <th>0</th>\n",
              "      <td>a</td>\n",
              "      <td>B</td>\n",
              "      <td>1</td>\n",
              "    </tr>\n",
              "    <tr>\n",
              "      <th>1</th>\n",
              "      <td>b</td>\n",
              "      <td>B</td>\n",
              "      <td>3</td>\n",
              "    </tr>\n",
              "    <tr>\n",
              "      <th>2</th>\n",
              "      <td>c</td>\n",
              "      <td>B</td>\n",
              "      <td>5</td>\n",
              "    </tr>\n",
              "    <tr>\n",
              "      <th>0</th>\n",
              "      <td>a</td>\n",
              "      <td>C</td>\n",
              "      <td>2</td>\n",
              "    </tr>\n",
              "    <tr>\n",
              "      <th>1</th>\n",
              "      <td>b</td>\n",
              "      <td>C</td>\n",
              "      <td>4</td>\n",
              "    </tr>\n",
              "    <tr>\n",
              "      <th>2</th>\n",
              "      <td>c</td>\n",
              "      <td>C</td>\n",
              "      <td>6</td>\n",
              "    </tr>\n",
              "  </tbody>\n",
              "</table>\n",
              "</div>"
            ],
            "text/plain": [
              "   A variable  value\n",
              "0  a        B      1\n",
              "1  b        B      3\n",
              "2  c        B      5\n",
              "0  a        C      2\n",
              "1  b        C      4\n",
              "2  c        C      6"
            ]
          },
          "execution_count": 24,
          "metadata": {},
          "output_type": "execute_result"
        }
      ],
      "source": [
        "pd.melt(df, id_vars=['A'], value_vars=['B', 'C'], ignore_index=False)"
      ]
    },
    {
      "cell_type": "code",
      "execution_count": null,
      "id": "4517f815",
      "metadata": {
        "id": "4517f815",
        "outputId": "97f77a0b-ec55-4f98-ce18-a46fa1b7f784"
      },
      "outputs": [
        {
          "data": {
            "text/html": [
              "<div>\n",
              "<style scoped>\n",
              "    .dataframe tbody tr th:only-of-type {\n",
              "        vertical-align: middle;\n",
              "    }\n",
              "\n",
              "    .dataframe tbody tr th {\n",
              "        vertical-align: top;\n",
              "    }\n",
              "\n",
              "    .dataframe thead th {\n",
              "        text-align: right;\n",
              "    }\n",
              "</style>\n",
              "<table border=\"1\" class=\"dataframe\">\n",
              "  <thead>\n",
              "    <tr style=\"text-align: right;\">\n",
              "      <th></th>\n",
              "      <th>A</th>\n",
              "      <th>variable</th>\n",
              "      <th>value</th>\n",
              "    </tr>\n",
              "  </thead>\n",
              "  <tbody>\n",
              "    <tr>\n",
              "      <th>0</th>\n",
              "      <td>a</td>\n",
              "      <td>B</td>\n",
              "      <td>1</td>\n",
              "    </tr>\n",
              "    <tr>\n",
              "      <th>1</th>\n",
              "      <td>b</td>\n",
              "      <td>B</td>\n",
              "      <td>3</td>\n",
              "    </tr>\n",
              "    <tr>\n",
              "      <th>2</th>\n",
              "      <td>c</td>\n",
              "      <td>B</td>\n",
              "      <td>5</td>\n",
              "    </tr>\n",
              "  </tbody>\n",
              "</table>\n",
              "</div>"
            ],
            "text/plain": [
              "   A variable  value\n",
              "0  a        B      1\n",
              "1  b        B      3\n",
              "2  c        B      5"
            ]
          },
          "execution_count": 25,
          "metadata": {},
          "output_type": "execute_result"
        }
      ],
      "source": [
        "pd.melt(df, col_level=0, id_vars=['A'], value_vars=['B'])"
      ]
    }
  ],
  "metadata": {
    "kernelspec": {
      "display_name": "Python 3 (ipykernel)",
      "language": "python",
      "name": "python3"
    },
    "language_info": {
      "codemirror_mode": {
        "name": "ipython",
        "version": 3
      },
      "file_extension": ".py",
      "mimetype": "text/x-python",
      "name": "python",
      "nbconvert_exporter": "python",
      "pygments_lexer": "ipython3",
      "version": "3.9.12"
    },
    "colab": {
      "provenance": []
    }
  },
  "nbformat": 4,
  "nbformat_minor": 5
}